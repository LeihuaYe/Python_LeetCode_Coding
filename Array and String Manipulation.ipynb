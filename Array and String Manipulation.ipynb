{
 "cells": [
  {
   "cell_type": "markdown",
   "metadata": {},
   "source": [
    "# Question 1: Count Negative Numbers in a Sorted Matrix, by Amazon and Apple\n",
    "- Given a m x n matrix grid which is sorted in non-increasing order both row-wise and column-wise, return the number of negative numbers in grid.\n",
    "- https://leetcode.com/problems/count-negative-numbers-in-a-sorted-matrix/"
   ]
  },
  {
   "cell_type": "code",
   "execution_count": 14,
   "metadata": {},
   "outputs": [
    {
     "data": {
      "text/plain": [
       "8"
      ]
     },
     "execution_count": 14,
     "metadata": {},
     "output_type": "execute_result"
    }
   ],
   "source": [
    "# solution 1: brutal force \n",
    "def countNegatives(grid):\n",
    "    count =0 \n",
    "    for i in range(len(grid)):\n",
    "        for j in range(len(grid[0])):\n",
    "            if grid[i][j]<0:\n",
    "                count+=1\n",
    "    return count\n",
    "\n",
    "# test case \n",
    "grid = [[4,3,2,-1],[3,2,1,-1],[1,1,-1,-2],[-1,-1,-2,-3]]\n",
    "countNegatives(grid)"
   ]
  },
  {
   "cell_type": "code",
   "execution_count": 15,
   "metadata": {},
   "outputs": [
    {
     "data": {
      "text/plain": [
       "8"
      ]
     },
     "execution_count": 15,
     "metadata": {},
     "output_type": "execute_result"
    }
   ],
   "source": [
    "# solution 2: import package \n",
    "def countNegatives(grid):\n",
    "    import numpy as np\n",
    "    count = 0 \n",
    "    grip = np.array(grid)\n",
    "    result = grip.flatten()\n",
    "    for i in result:\n",
    "        if i < 0:\n",
    "            count+=1\n",
    "    return count\n",
    "\n",
    "# test case \n",
    "grid = [[4,3,2,-1],[3,2,1,-1],[1,1,-1,-2],[-1,-1,-2,-3]]\n",
    "countNegatives(grid)"
   ]
  },
  {
   "cell_type": "code",
   "execution_count": 21,
   "metadata": {},
   "outputs": [
    {
     "data": {
      "text/plain": [
       "8"
      ]
     },
     "execution_count": 21,
     "metadata": {},
     "output_type": "execute_result"
    }
   ],
   "source": [
    "# solution 3: binary search \n",
    "def countNegatives(grid):\n",
    "    \n",
    "    n = len(grid[0])-1                 # column numbers\n",
    "    \n",
    "    count = 0                          # initialize the count\n",
    "    \n",
    "    for row in grid:                   # iterate over the rows\n",
    "        \n",
    "        low, high = 0, n               # set searching space: low and high\n",
    "        \n",
    "        while low <= high:             # while the condition is met\n",
    "            \n",
    "            mid = low + (high-low)//2  # set the third search space: middle \n",
    "            \n",
    "            if row[mid] > -1:          # if the selected value is bigger than -1\n",
    "                low = mid + 1          # move the searching space to the right \n",
    "                \n",
    "            else:                      # if the selected value is smaller than or equal to -1: \n",
    "                high = mid - 1         # move the searching space to the left\n",
    "\n",
    "        if low <= n:                   # outside the while loop, we compare the leftmost searching point to n\n",
    "            count += (n+1)-low         # everything on the right side of low is negative\n",
    "                \n",
    "    return count\n",
    "    \n",
    "# test case \n",
    "grid = [[4,3,2,-1],[3,2,1,-1],[1,1,-1,-2],[-1,-1,-2,-3]]\n",
    "countNegatives(grid)"
   ]
  },
  {
   "cell_type": "markdown",
   "metadata": {},
   "source": [
    "---"
   ]
  },
  {
   "cell_type": "markdown",
   "metadata": {},
   "source": [
    "# Question 2: Replace Elements with Greatest Element on Right Side, by Amazon\n",
    "- Given an array arr, replace every element in that array with the greatest element among the elements to its right, and replace the last element with -1.\n",
    "- After doing so, return the array.\n",
    "- https://leetcode.com/problems/replace-elements-with-greatest-element-on-right-side/"
   ]
  },
  {
   "cell_type": "code",
   "execution_count": 17,
   "metadata": {},
   "outputs": [
    {
     "data": {
      "text/plain": [
       "[18, 6, 6, 6, 1, -1]"
      ]
     },
     "execution_count": 17,
     "metadata": {},
     "output_type": "execute_result"
    }
   ],
   "source": [
    "# solution 1: brutal force\n",
    "def replaceElements(arr):\n",
    "    \n",
    "    new = []\n",
    "    \n",
    "    for i in range(len(arr)-1):\n",
    "        new.append(max(arr[i+1:]))\n",
    "            \n",
    "    new +=[-1]\n",
    "    \n",
    "    return new\n",
    "\n",
    "#test case \n",
    "arr = [17,18,5,4,6,1]\n",
    "replaceElements(arr)"
   ]
  },
  {
   "cell_type": "code",
   "execution_count": 11,
   "metadata": {},
   "outputs": [
    {
     "data": {
      "text/plain": [
       "[18, 6, 6, 6, 1, -1]"
      ]
     },
     "execution_count": 11,
     "metadata": {},
     "output_type": "execute_result"
    }
   ],
   "source": [
    "# solution 2: \n",
    "def replaceElements(arr):\n",
    "    max_value = -1 \n",
    "    for i in range(len(arr)-1,-1,-1):\n",
    "        arr[i],max_value = max_value,max(max_value,arr[i])\n",
    "    return arr\n",
    "\n",
    "#test case \n",
    "arr = [17,18,5,4,6,1]\n",
    "replaceElements(arr)"
   ]
  },
  {
   "cell_type": "markdown",
   "metadata": {},
   "source": [
    "----"
   ]
  },
  {
   "cell_type": "markdown",
   "metadata": {},
   "source": [
    "# Question 3: Three Consecutive Odds, by Dajiang \n",
    "- Given an integer array arr, return true if there are three consecutive odd numbers in the array. Otherwise, return false.\n",
    "- https://leetcode.com/problems/three-consecutive-odds/"
   ]
  },
  {
   "cell_type": "code",
   "execution_count": 23,
   "metadata": {},
   "outputs": [
    {
     "data": {
      "text/plain": [
       "False"
      ]
     },
     "execution_count": 23,
     "metadata": {},
     "output_type": "execute_result"
    }
   ],
   "source": [
    "# solution 1: brutal force\n",
    "def three_consecutive_odds(arr):\n",
    "    for i in range(len(arr)-2):\n",
    "        if arr[i]%2 != 0 and arr[i+1]%2 != 0 and arr[i+2]%2 != 0:\n",
    "            return True\n",
    "    else:                   # extra attention: the position/indentation of else!\n",
    "        return False\n",
    "        \n",
    "# test case        \n",
    "arr = [2,6,4,1]\n",
    "three_consecutive_odds(arr)"
   ]
  },
  {
   "cell_type": "code",
   "execution_count": 24,
   "metadata": {},
   "outputs": [
    {
     "data": {
      "text/plain": [
       "False"
      ]
     },
     "execution_count": 24,
     "metadata": {},
     "output_type": "execute_result"
    }
   ],
   "source": [
    "# solution 2 \n",
    "def three_consecutive_odds(arr):\n",
    "    count=0\n",
    "    for i in range(len(arr)):\n",
    "        if arr[i]%2 != 0:\n",
    "            count+=1\n",
    "            \n",
    "        else:\n",
    "            count =0 \n",
    "            \n",
    "        if count==3:\n",
    "            return True\n",
    "        \n",
    "    else:                  # extra attention: the position/indentation of else!\n",
    "        return False\n",
    "        \n",
    "# test case        \n",
    "arr = [2,6,4,1]\n",
    "three_consecutive_odds(arr)"
   ]
  },
  {
   "cell_type": "markdown",
   "metadata": {},
   "source": [
    "----"
   ]
  }
 ],
 "metadata": {
  "kernelspec": {
   "display_name": "Python 3",
   "language": "python",
   "name": "python3"
  },
  "language_info": {
   "codemirror_mode": {
    "name": "ipython",
    "version": 3
   },
   "file_extension": ".py",
   "mimetype": "text/x-python",
   "name": "python",
   "nbconvert_exporter": "python",
   "pygments_lexer": "ipython3",
   "version": "3.7.4"
  }
 },
 "nbformat": 4,
 "nbformat_minor": 2
}
