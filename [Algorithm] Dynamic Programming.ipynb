{
 "cells": [
  {
   "cell_type": "markdown",
   "metadata": {},
   "source": [
    "# Question 1: Factorial\n",
    "- For a positive number N, calculate its factorial.\n",
    "- definition: a factorial of a number, N is the product of all positive integers less than or equal to N, denoted as N!. \n",
    "- For example, the factorial of 3 is 3! = 3 * 2 * 1 = 6."
   ]
  },
  {
   "cell_type": "code",
   "execution_count": 1,
   "metadata": {},
   "outputs": [],
   "source": [
    "# solution 1: for loop \n",
    "def factorial_1(n):\n",
    "    result = 1\n",
    "    for i in range(1,n+1):\n",
    "        result*=i\n",
    "    return result"
   ]
  },
  {
   "cell_type": "code",
   "execution_count": 9,
   "metadata": {},
   "outputs": [
    {
     "data": {
      "text/plain": [
       "3628800"
      ]
     },
     "execution_count": 9,
     "metadata": {},
     "output_type": "execute_result"
    }
   ],
   "source": [
    "# test case\n",
    "factorial_1(10)"
   ]
  },
  {
   "cell_type": "code",
   "execution_count": 2,
   "metadata": {},
   "outputs": [],
   "source": [
    "# solution 2: recursion\n",
    "def factorial_2(n):\n",
    "    if n==1:\n",
    "        return 1\n",
    "    \n",
    "    else:\n",
    "        n *= factorial_2(n-1)\n",
    "        return n"
   ]
  },
  {
   "cell_type": "code",
   "execution_count": 7,
   "metadata": {},
   "outputs": [
    {
     "data": {
      "text/plain": [
       "3628800"
      ]
     },
     "execution_count": 7,
     "metadata": {},
     "output_type": "execute_result"
    }
   ],
   "source": [
    "# test case\n",
    "factorial_2(10)"
   ]
  },
  {
   "cell_type": "code",
   "execution_count": 8,
   "metadata": {},
   "outputs": [
    {
     "data": {
      "text/plain": [
       "3628800"
      ]
     },
     "execution_count": 8,
     "metadata": {},
     "output_type": "execute_result"
    }
   ],
   "source": [
    "# solution 3: dynamic programming\n",
    "def factorial_3(n):\n",
    "    dict_1 = {}\n",
    "    if n in dict_1: \n",
    "        return dict_1[n]\n",
    "    elif n<=1:\n",
    "        dict_1[n]=1\n",
    "        return 1\n",
    "    else:\n",
    "        fact = n*factorial_3(n-1)\n",
    "        dict_1[n] = fact\n",
    "    return fact\n",
    "    \n",
    "# test case\n",
    "factorial_3(10)"
   ]
  },
  {
   "cell_type": "markdown",
   "metadata": {},
   "source": [
    "---"
   ]
  },
  {
   "cell_type": "markdown",
   "metadata": {},
   "source": [
    "# Question 2: Find Fibonacci number,  by everyone\n",
    "- https://leetcode.com/problems/fibonacci-number/\n",
    "- The Fibonacci numbers, commonly denoted F(n) form a sequence, called the Fibonacci sequence, such that each number is the sum of the two preceding ones, starting from 0 and 1.\n",
    "That is,\n",
    "F(0) = 0, F(1) = 1,\n",
    "F(n) = F(n -1) + F(n-2), for n > 1.\n",
    "- Given n, calculate F(n)."
   ]
  },
  {
   "cell_type": "code",
   "execution_count": 10,
   "metadata": {},
   "outputs": [
    {
     "data": {
      "text/plain": [
       "5"
      ]
     },
     "execution_count": 10,
     "metadata": {},
     "output_type": "execute_result"
    }
   ],
   "source": [
    "# solution 1: if-else statment\n",
    "\n",
    "def fib_non_recursion(n):\n",
    "    n1 = n2 = 1\n",
    "    \n",
    "    if n<=3:\n",
    "        return 1\n",
    "    \n",
    "    for i in range(3,n+1):\n",
    "        current = n1+n2\n",
    "        n2 = n1\n",
    "        n1 = current\n",
    "        \n",
    "    return current\n",
    "\n",
    "# test case \n",
    "fib_non_recursion(5)"
   ]
  },
  {
   "cell_type": "code",
   "execution_count": 1,
   "metadata": {},
   "outputs": [
    {
     "data": {
      "text/plain": [
       "5"
      ]
     },
     "execution_count": 1,
     "metadata": {},
     "output_type": "execute_result"
    }
   ],
   "source": [
    "# solution 2: Recursion & O(2^n) time Complexity and O(N) Space Complexity \n",
    "# takes time and not space\n",
    "\n",
    "def fibonacci_func_recursion(N):\n",
    "    if N <=1:\n",
    "        return N\n",
    "    \n",
    "    else: \n",
    "        return fibonacci_func_recursion(N-1)+fibonacci_func_recursion(N-2)\n",
    "\n",
    "# test case    \n",
    "fibonacci_func_recursion(5)"
   ]
  },
  {
   "cell_type": "code",
   "execution_count": 2,
   "metadata": {},
   "outputs": [
    {
     "data": {
      "text/plain": [
       "5"
      ]
     },
     "execution_count": 2,
     "metadata": {},
     "output_type": "execute_result"
    }
   ],
   "source": [
    "# solution 3: Dynamic Programming (Bottom-Up Approach using Memoization)\n",
    "\n",
    "def fibonacci_func_DP(n):\n",
    "    \n",
    "    cache = {0:0,1:1}\n",
    "    \n",
    "    for i in range(2,n+1):\n",
    "        \n",
    "        cache[i] = cache[i-1]+cache[i-2]\n",
    "        \n",
    "    return cache[n]\n",
    "\n",
    "# test case\n",
    "fibonacci_func_DP(5)"
   ]
  },
  {
   "cell_type": "code",
   "execution_count": 12,
   "metadata": {},
   "outputs": [
    {
     "name": "stdout",
     "output_type": "stream",
     "text": [
      "6765\n",
      "CPU times: user 3.35 ms, sys: 157 µs, total: 3.51 ms\n",
      "Wall time: 3.42 ms\n"
     ]
    }
   ],
   "source": [
    "%time print(fibonacci_func_recursion(20))"
   ]
  },
  {
   "cell_type": "code",
   "execution_count": 11,
   "metadata": {},
   "outputs": [
    {
     "name": "stdout",
     "output_type": "stream",
     "text": [
      "6765\n",
      "CPU times: user 168 µs, sys: 105 µs, total: 273 µs\n",
      "Wall time: 215 µs\n"
     ]
    }
   ],
   "source": [
    "%time print(fibonacci_func_DP(20))"
   ]
  },
  {
   "cell_type": "markdown",
   "metadata": {},
   "source": [
    "---"
   ]
  },
  {
   "cell_type": "markdown",
   "metadata": {},
   "source": [
    "# Question 3: Longest Increasing Subsequence\n",
    "- Given an integer array nums, return the length of the longest strictly increasing subsequence.\n",
    "- A subsequence is a sequence that can be derived from an array by deleting some or no elements without changing the order of the remaining elements. \n",
    "- For example, [3,6,2,7] is a subsequence of the array [0,3,1,6,2,2,7]."
   ]
  },
  {
   "cell_type": "code",
   "execution_count": 8,
   "metadata": {},
   "outputs": [
    {
     "data": {
      "text/plain": [
       "4"
      ]
     },
     "execution_count": 8,
     "metadata": {},
     "output_type": "execute_result"
    }
   ],
   "source": [
    "def longest_inc_len(nums):\n",
    "    \n",
    "    new_list = [1] * len(nums)\n",
    "    \n",
    "    for i in range(1, len(nums)):\n",
    "        for j in range(i):\n",
    "            if nums[i] > nums[j]:\n",
    "                new_list[i] = max(new_list[i], new_list[j] + 1)\n",
    "\n",
    "    return max(new_list)\n",
    "\n",
    "# test case \n",
    "nums = [0,3,1,6,2,2,7]\n",
    "longest_inc_len(nums)"
   ]
  },
  {
   "cell_type": "markdown",
   "metadata": {},
   "source": [
    "---"
   ]
  }
 ],
 "metadata": {
  "kernelspec": {
   "display_name": "Python 3",
   "language": "python",
   "name": "python3"
  },
  "language_info": {
   "codemirror_mode": {
    "name": "ipython",
    "version": 3
   },
   "file_extension": ".py",
   "mimetype": "text/x-python",
   "name": "python",
   "nbconvert_exporter": "python",
   "pygments_lexer": "ipython3",
   "version": "3.7.7"
  }
 },
 "nbformat": 4,
 "nbformat_minor": 2
}
