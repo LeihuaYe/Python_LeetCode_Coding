{
 "cells": [
  {
   "cell_type": "markdown",
   "metadata": {},
   "source": [
    "# Question 1:  Defanging an IP Address, by Amazon\n",
    "- Given a valid (IPv4) IP address, return a defanged version of that IP address.\n",
    "- A defanged IP address replaces every period \".\" with \"[.]\".\n",
    "- https://leetcode.com/problems/defanging-an-ip-address/"
   ]
  },
  {
   "cell_type": "code",
   "execution_count": 20,
   "metadata": {},
   "outputs": [],
   "source": [
    "# solution 1: split and join\n",
    "def defang_IP(address):\n",
    "    new_address = \"\"\n",
    "    split_address = address.split(\".\")\n",
    "    separator = \"[.]\"\n",
    "    new_address = separator.join(split_address) # mind the order: it's separator join a list (split_address)\n",
    "    return new_address"
   ]
  },
  {
   "cell_type": "code",
   "execution_count": 23,
   "metadata": {},
   "outputs": [],
   "source": [
    "# solution 2: replace()\n",
    "# more pythonic\n",
    "def defang_IP(address):\n",
    "    return address.replace(\".\", \"[.]\") "
   ]
  },
  {
   "cell_type": "code",
   "execution_count": 24,
   "metadata": {},
   "outputs": [
    {
     "data": {
      "text/plain": [
       "'1[.]1[.]1[.]1'"
      ]
     },
     "execution_count": 24,
     "metadata": {},
     "output_type": "execute_result"
    }
   ],
   "source": [
    "# test case 1 \n",
    "address = \"1.1.1.1\"\n",
    "defang_IP(address)"
   ]
  },
  {
   "cell_type": "markdown",
   "metadata": {},
   "source": [
    "---- "
   ]
  },
  {
   "cell_type": "markdown",
   "metadata": {},
   "source": [
    "# Question 2: Fizz Buzz, by Microsoft, Bloomberg\n",
    "- Write a program that prints the number for 1 to 50, for number multiple of 2 print 'fizz' instead of a number, for numbers multiple of 3 print 'buzz', for numbers which are multiple of both 2 and 3 'fizzbuzz.'\n",
    "- https://leetcode.com/problems/fizz-buzz/"
   ]
  },
  {
   "cell_type": "code",
   "execution_count": 14,
   "metadata": {},
   "outputs": [
    {
     "name": "stdout",
     "output_type": "stream",
     "text": [
      "1\n",
      "fizz\n",
      "buzz\n",
      "fizz\n",
      "5\n",
      "fizzbuzz\n",
      "7\n",
      "fizz\n",
      "buzz\n",
      "fizz\n",
      "11\n",
      "fizzbuzz\n",
      "13\n",
      "fizz\n",
      "buzz\n",
      "fizz\n",
      "17\n",
      "fizzbuzz\n",
      "19\n",
      "fizz\n",
      "buzz\n",
      "fizz\n",
      "23\n",
      "fizzbuzz\n",
      "25\n",
      "fizz\n",
      "buzz\n",
      "fizz\n",
      "29\n",
      "fizzbuzz\n",
      "31\n",
      "fizz\n",
      "buzz\n",
      "fizz\n",
      "35\n",
      "fizzbuzz\n",
      "37\n",
      "fizz\n",
      "buzz\n",
      "fizz\n",
      "41\n",
      "fizzbuzz\n",
      "43\n",
      "fizz\n",
      "buzz\n",
      "fizz\n",
      "47\n",
      "fizzbuzz\n",
      "49\n",
      "fizz\n"
     ]
    }
   ],
   "source": [
    "# solution 1: control flows\n",
    "for i in range(1,51): \n",
    "    \n",
    "    if i%2==0 and i%3==0:\n",
    "        print('fizzbuzz')\n",
    "        \n",
    "    elif i%2==0:\n",
    "        print('fizz')\n",
    "        \n",
    "    elif i%3==0:\n",
    "        print('buzz')\n",
    "        \n",
    "    else:\n",
    "        print(i)"
   ]
  },
  {
   "cell_type": "code",
   "execution_count": 70,
   "metadata": {},
   "outputs": [
    {
     "name": "stdout",
     "output_type": "stream",
     "text": [
      "1\n",
      "Fizz\n",
      "Buzz\n",
      "Fizz\n",
      "5\n",
      "FizzBuzz\n",
      "7\n",
      "Fizz\n",
      "Buzz\n",
      "Fizz\n",
      "11\n",
      "FizzBuzz\n",
      "13\n",
      "Fizz\n",
      "Buzz\n",
      "Fizz\n",
      "17\n",
      "FizzBuzz\n",
      "19\n",
      "Fizz\n",
      "Buzz\n",
      "Fizz\n",
      "23\n",
      "FizzBuzz\n",
      "25\n",
      "Fizz\n",
      "Buzz\n",
      "Fizz\n",
      "29\n",
      "FizzBuzz\n",
      "31\n",
      "Fizz\n",
      "Buzz\n",
      "Fizz\n",
      "35\n",
      "FizzBuzz\n",
      "37\n",
      "Fizz\n",
      "Buzz\n",
      "Fizz\n",
      "41\n",
      "FizzBuzz\n",
      "43\n",
      "Fizz\n",
      "Buzz\n",
      "Fizz\n",
      "47\n",
      "FizzBuzz\n",
      "49\n",
      "Fizz\n"
     ]
    }
   ],
   "source": [
    "# 2 solution: no control flow \n",
    "def fizz_buzz_func(num):\n",
    "    condition_1 = (num % 2 == 0)# fizz \n",
    "    condition_2 = (num % 3 == 0)# buzz\n",
    "    if (condition_1 or condition_2):\n",
    "        return (condition_1 * 'Fizz') + (condition_2 * 'Buzz')\n",
    "    return str(num)\n",
    "\n",
    "print('\\n'.join([fizz_buzz_func(i) for i in range(1,51)]))"
   ]
  },
  {
   "cell_type": "markdown",
   "metadata": {},
   "source": [
    "---"
   ]
  },
  {
   "cell_type": "markdown",
   "metadata": {},
   "source": [
    "# Question 3: Palindrome Number, by Google, FB, and MS\n",
    "- Identity all words that are palindromes in the following sentence \"To be or not to be a data scientist, this is not a question. Ask your mom, lol.\"\n",
    "- If the same word appears multiple times, return the word once.\n",
    "- Palindromes: words that return the same result when you read from the beginning to the end or the end to the beginning.\n",
    "- https://leetcode.com/problems/palindrome-number/"
   ]
  },
  {
   "cell_type": "code",
   "execution_count": 81,
   "metadata": {},
   "outputs": [
    {
     "data": {
      "text/plain": [
       "{'a', 'lol', 'mom'}"
      ]
     },
     "execution_count": 81,
     "metadata": {},
     "output_type": "execute_result"
    }
   ],
   "source": [
    "def palindrome(sentence):\n",
    "    \n",
    "    for i in (\",.'?/><}{{}}'\"):             # remove all punctuation marks \n",
    "        \n",
    "        sentence = sentence.replace(i, \"\")\n",
    "    \n",
    "    palindrome = []                         # empty list \n",
    "    \n",
    "    words = sentence.split(' ')             # split based on whitespace\n",
    "    \n",
    "    for word in words:                      # iterate over the list\n",
    "        \n",
    "        word = word.lower()                 # lower case \n",
    "        \n",
    "        if word == word[::-1]:              # if statement to determine if it is a palindrome\n",
    "            \n",
    "            palindrome.append(word)         # if so, append it to the list\n",
    "        \n",
    "            \n",
    "    return set(palindrome)                  # turn the list into a set b/c we only need one word.\n",
    "\n",
    "# test case \n",
    "sentence = \"To be or not to be a data scientist, this is not a question. Ask your mom, lol.\"\n",
    "palindrome(sentence)"
   ]
  },
  {
   "cell_type": "markdown",
   "metadata": {},
   "source": [
    "--- "
   ]
  },
  {
   "cell_type": "markdown",
   "metadata": {},
   "source": [
    "# Question 4: First Unique Character in a String, by FAANG\n",
    "- Given a string, find the first non-repeating character in it and return its index. \n",
    "- If it doesn't exist, return -1.\n",
    "- https://leetcode.com/problems/first-unique-character-in-a-string/"
   ]
  },
  {
   "cell_type": "code",
   "execution_count": 102,
   "metadata": {},
   "outputs": [
    {
     "data": {
      "text/plain": [
       "0"
      ]
     },
     "execution_count": 102,
     "metadata": {},
     "output_type": "execute_result"
    }
   ],
   "source": [
    "def first_unique_character(string):\n",
    "    for i in range(len(string)):      # create a range item\n",
    "        c = string[i]                 # create a new object for each element in string\n",
    "        if string.count(c)==1:        # this is the tricky part: for each element within the string, if the count is 1.\n",
    "            return i                  # return i; \n",
    "                                      # we can also use the index method: return string.index(c)\n",
    "        return -1\n",
    "\n",
    "string = \"I am a data scientist.\"\n",
    "first_unique_character(string)"
   ]
  },
  {
   "cell_type": "code",
   "execution_count": 103,
   "metadata": {},
   "outputs": [
    {
     "name": "stdout",
     "output_type": "stream",
     "text": [
      "1\n"
     ]
    }
   ],
   "source": [
    "# e.g. how to use count\n",
    "string = \"Python is wonderful. Isn't it?\"\n",
    "substring = 'Python'\n",
    "count_num= string.count(substring)\n",
    "print(count_num)"
   ]
  },
  {
   "cell_type": "markdown",
   "metadata": {},
   "source": [
    "In simple words, count() method searches the substring in the given string and returns how many times the substring is present in it.\n",
    "\n",
    "It also takes optional parameters start and end to specify the starting and ending positions in the string respectively.\n",
    "\n",
    "syntax:\n",
    "string.count(substring, start=..., end=...)"
   ]
  },
  {
   "cell_type": "markdown",
   "metadata": {},
   "source": [
    "---"
   ]
  },
  {
   "cell_type": "markdown",
   "metadata": {},
   "source": [
    "# Question 5: Unique Email Addresses, by Google, Amazon, and Adobe\n",
    "- Every email consists of a local name and a domain name, separated by the @ sign.\n",
    "- For example, in alice@leetcode.com, alice is the local name, and leetcode.com is the domain name.\n",
    "- Besides lowercase letters, these emails may contain '.'s or '+'s.\n",
    "- If you add periods ('.') between some characters in the local name part of an email address, mail sent there will be forwarded to the same address without dots in the local name.  For example, \"alice.z@leetcode.com\" and \"alicez@leetcode.com\" forward to the same email address.  (Note that this rule does not apply for domain names.)\n",
    "- If you add a plus ('+') in the local name, everything after the first plus sign will be ignored. This allows certain emails to be filtered, for example m.y+name@email.com will be forwarded to my@email.com.  (Again, this rule does not apply for domain names.)\n",
    "- It is possible to use both of these rules at the same time.\n",
    "- Given a list of emails, we send one email to each address in the list.  How many different addresses actually receive mails?\n",
    "- https://leetcode.com/problems/unique-email-addresses/"
   ]
  },
  {
   "cell_type": "code",
   "execution_count": 105,
   "metadata": {},
   "outputs": [
    {
     "data": {
      "text/plain": [
       "2"
      ]
     },
     "execution_count": 105,
     "metadata": {},
     "output_type": "execute_result"
    }
   ],
   "source": [
    "def number_unique_emails(emails):\n",
    "\n",
    "    new = set()                                      # prepare for the counting\n",
    "    \n",
    "    for email in emails:                             # iterate over the list\n",
    "        \n",
    "        local, domain = email.split(\"@\")             # split it into two parts\n",
    "        \n",
    "        if \"+\" in local:                             # if there is a \"+\":\n",
    "            \n",
    "            local = local[:local.index(\"+\")]         # ignore everything after the plus sign\n",
    "        \n",
    "        new.add(local.replace('.','') + \"@\" + domain)# delete/replace \".\" and join the set\n",
    "\n",
    "    return len(new)                                  # return the length of the set\n",
    "\n",
    "\n",
    "# test case\n",
    "emails = [\"test.email+alex@leetcode.com\",\"test.e.mail+bob.cathy@leetcode.com\",\"testemail+david@lee.tcode.com\"]\n",
    "number_unique_emails(emails)"
   ]
  },
  {
   "cell_type": "markdown",
   "metadata": {},
   "source": [
    "---"
   ]
  },
  {
   "cell_type": "markdown",
   "metadata": {},
   "source": [
    "# Question 6 Destination City, by Yelp\n",
    "- You are given the array paths, where paths[i] = [cityAi, cityBi] means there exists a direct path going from cityAi to cityBi. \n",
    "- Return the destination city, that is, the city without any path outgoing to another city.\n",
    "- It is guaranteed that the graph of paths forms a line without any loop, therefore, there will be exactly one destination city.\n",
    "- https://leetcode.com/problems/destination-city/"
   ]
  },
  {
   "cell_type": "code",
   "execution_count": 116,
   "metadata": {},
   "outputs": [
    {
     "data": {
      "text/plain": [
       "'Sao Paulo'"
      ]
     },
     "execution_count": 116,
     "metadata": {},
     "output_type": "execute_result"
    }
   ],
   "source": [
    "def destination_city(paths):\n",
    "    return (set(path[1] for path in paths)- set(path[0] for path in paths)).pop()\n",
    "\n",
    "# test case\n",
    "paths = [[\"London\",\"New York\"],[\"New York\",\"Lima\"],[\"Lima\",\"Sao Paulo\"]]\n",
    "destination_city(paths)"
   ]
  },
  {
   "cell_type": "markdown",
   "metadata": {},
   "source": [
    "---"
   ]
  }
 ],
 "metadata": {
  "kernelspec": {
   "display_name": "Python 3",
   "language": "python",
   "name": "python3"
  },
  "language_info": {
   "codemirror_mode": {
    "name": "ipython",
    "version": 3
   },
   "file_extension": ".py",
   "mimetype": "text/x-python",
   "name": "python",
   "nbconvert_exporter": "python",
   "pygments_lexer": "ipython3",
   "version": "3.7.4"
  }
 },
 "nbformat": 4,
 "nbformat_minor": 2
}
