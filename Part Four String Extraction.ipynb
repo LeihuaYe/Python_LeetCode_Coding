{
 "cells": [
  {
   "cell_type": "markdown",
   "metadata": {},
   "source": [
    "# Question 1: Write a function that reverses the string."
   ]
  },
  {
   "cell_type": "code",
   "execution_count": 2,
   "metadata": {},
   "outputs": [
    {
     "data": {
      "text/plain": [
       "'?uoy tuoba woH .nohtyP ni gnimmargorp evol I'"
      ]
     },
     "execution_count": 2,
     "metadata": {},
     "output_type": "execute_result"
    }
   ],
   "source": [
    "# Solution 1: read the string backward from the end\n",
    "def reversed_string(sentence):\n",
    "    return sentence[::-1]\n",
    "\n",
    "# test case \n",
    "sentence = \"I love programming in Python. How about you?\"\n",
    "reversed_string(sentence)"
   ]
  },
  {
   "cell_type": "code",
   "execution_count": 3,
   "metadata": {},
   "outputs": [
    {
     "data": {
      "text/plain": [
       "'?uoy tuoba woH .nohtyP ni gnimmargorp evol I'"
      ]
     },
     "execution_count": 3,
     "metadata": {},
     "output_type": "execute_result"
    }
   ],
   "source": [
    "# solution 2\n",
    "''.join(sentence[-i] for i in range(1, len(sentence)+1))"
   ]
  },
  {
   "cell_type": "markdown",
   "metadata": {},
   "source": [
    "---"
   ]
  },
  {
   "cell_type": "markdown",
   "metadata": {},
   "source": [
    "# Question 2: Fibonacci Number, by FAANG\n",
    "- The Fibonacci numbers, commonly denoted F(n) form a sequence, called the Fibonacci sequence, such that each number is the sum of the two preceding ones, starting from 0 and 1. That is,\n",
    "\n",
    "F(0) = 0, F(1) = 1,\n",
    "\n",
    "F(n) = F(n - 1) + F(n - 2), for n > 1.\n",
    "\n",
    "- Given n, calculate F(n).\n",
    "\n",
    "- https://leetcode.com/problems/fibonacci-number/"
   ]
  },
  {
   "cell_type": "code",
   "execution_count": 28,
   "metadata": {},
   "outputs": [
    {
     "data": {
      "text/plain": [
       "2"
      ]
     },
     "execution_count": 28,
     "metadata": {},
     "output_type": "execute_result"
    }
   ],
   "source": [
    "# solution 1: brutal force \n",
    "def fibonacci(n):\n",
    "    if n <=1:\n",
    "        return n\n",
    "    if n==2:\n",
    "        return 2\n",
    "    current = 0\n",
    "    previous1 = 1\n",
    "    previous2 = 1\n",
    "    for i in range(3, n+1):\n",
    "        current = previous1+previous2\n",
    "        previous2 = previous1\n",
    "        previous1 = current\n",
    "    return current\n",
    "\n",
    "# test case\n",
    "fibonacci(n=3)#2 "
   ]
  },
  {
   "cell_type": "code",
   "execution_count": 23,
   "metadata": {},
   "outputs": [
    {
     "data": {
      "text/plain": [
       "2"
      ]
     },
     "execution_count": 23,
     "metadata": {},
     "output_type": "execute_result"
    }
   ],
   "source": [
    "# solution 2: recursion\n",
    "def fibonacci(n):\n",
    "    if n <= 1:\n",
    "        return n\n",
    "    return fibonacci(n-1)+fibonacci(n-2)\n",
    "\n",
    "# test case\n",
    "fibonacci(n=3)#2 "
   ]
  },
  {
   "cell_type": "markdown",
   "metadata": {},
   "source": [
    "---"
   ]
  },
  {
   "cell_type": "markdown",
   "metadata": {},
   "source": [
    "# Question 3: Check If Two String Arrays are Equivalent, by Facebook\n",
    "- Given two string arrays word1 and word2, return true if the two arrays represent the same string, and false otherwise.\n",
    "- A string is represented by an array if the array elements concatenated in order forms the string.\n",
    "- https://leetcode.com/problems/check-if-two-string-arrays-are-equivalent/"
   ]
  },
  {
   "cell_type": "code",
   "execution_count": 31,
   "metadata": {},
   "outputs": [
    {
     "data": {
      "text/plain": [
       "True"
      ]
     },
     "execution_count": 31,
     "metadata": {},
     "output_type": "execute_result"
    }
   ],
   "source": [
    "## solution 1: brutal force\n",
    "# two for loops: redundant\n",
    "\n",
    "def two_string_equivalent(word1,word2):\n",
    "    new_1 = \"\"  # data type has to be a string\n",
    "    new_2 = \"\"\n",
    "    for i in word1:\n",
    "        new_1+=i\n",
    "    for j in word2:\n",
    "        new_2+=j\n",
    "    return new_1==new_2\n",
    "\n",
    "# test case\n",
    "word1 = [\"ab\", \"c\"]\n",
    "word2 = [\"a\", \"bc\"]\n",
    "two_string_equivalent(word1,word2)"
   ]
  },
  {
   "cell_type": "code",
   "execution_count": 30,
   "metadata": {},
   "outputs": [
    {
     "data": {
      "text/plain": [
       "True"
      ]
     },
     "execution_count": 30,
     "metadata": {},
     "output_type": "execute_result"
    }
   ],
   "source": [
    "## solution 2 \n",
    "def two_string_equivalent(word1,word2):\n",
    "    return \"\".join(word1) == \"\".join(word2)\n",
    "\n",
    "# test case\n",
    "word1 = [\"ab\", \"c\"]\n",
    "word2 = [\"a\", \"bc\"]\n",
    "two_string_equivalent(word1,word2)"
   ]
  },
  {
   "cell_type": "markdown",
   "metadata": {},
   "source": [
    "---"
   ]
  },
  {
   "cell_type": "markdown",
   "metadata": {},
   "source": [
    "# Question 4: Matrix Diagonal Sum, by Adobe\n",
    "- Given a square matrix mat, return the sum of the matrix diagonals.\n",
    "- Only include the sum of all the elements on the primary diagonal and all the elements on the secondary diagonal that are not part of the primary diagonal.\n",
    "- https://leetcode.com/problems/matrix-diagonal-sum/"
   ]
  },
  {
   "cell_type": "code",
   "execution_count": 41,
   "metadata": {},
   "outputs": [
    {
     "data": {
      "text/plain": [
       "8"
      ]
     },
     "execution_count": 41,
     "metadata": {},
     "output_type": "execute_result"
    }
   ],
   "source": [
    "# solution 1\n",
    "def diagonal_sum(mat):\n",
    "    n = len(mat)                        # row length\n",
    "    k = len(mat[0])                     # column length\n",
    "    diag_sum = 0                        # initilize \n",
    "    for i in range(n):                  # iterate over rows\n",
    "        for j in range(k):              # iterate over columns\n",
    "            if i==j:                    # if they are the same\n",
    "                diag_sum += mat[i][j]   # add elements on the primary diagonal\n",
    "        diag_sum += mat[n-i-1][j]       # add elements on the secondary diagonal\n",
    "    if n%2!=0:                          # if the length is odd, \n",
    "        diag_sum -=mat[n//2][n//2]      # deduct the center element from the total sum \n",
    "    return diag_sum\n",
    "\n",
    "\n",
    "# test case \n",
    "mat = [[1,1,1,1],\n",
    "       [1,1,1,1],\n",
    "       [1,1,1,1],\n",
    "       [1,1,1,1]]\n",
    "\n",
    "diagonal_sum(mat)"
   ]
  },
  {
   "cell_type": "code",
   "execution_count": 1,
   "metadata": {},
   "outputs": [
    {
     "data": {
      "text/plain": [
       "8"
      ]
     },
     "execution_count": 1,
     "metadata": {},
     "output_type": "execute_result"
    }
   ],
   "source": [
    "# solution 2 \n",
    "def diagonal_sum(mat):\n",
    "    n = len(mat)\n",
    "    output = 0\n",
    "    for i in range(n):\n",
    "        output = output+mat[i][i]\n",
    "        if i!=n-i-1:\n",
    "            output = output+mat[i][n-i-1]\n",
    "    return output\n",
    "\n",
    "# test case \n",
    "mat = [[1,1,1,1],\n",
    "       [1,1,1,1],\n",
    "       [1,1,1,1],\n",
    "       [1,1,1,1]]\n",
    "\n",
    "diagonal_sum(mat)"
   ]
  },
  {
   "cell_type": "markdown",
   "metadata": {},
   "source": [
    "---"
   ]
  },
  {
   "cell_type": "markdown",
   "metadata": {},
   "source": [
    "# Question 5: Final Prices With a Special Discount in a Shop\n",
    "- Given the array prices where prices[i] is the price of the ith item in a shop. \n",
    "- There is a special discount for items in the shop, if you buy the ith item, then you will receive a discount equivalent to prices[j] where j is the minimum index such that j > i and prices[j] <= prices[i], otherwise, you will not receive any discount at all.\n",
    "- Return an array where the ith element is the final price you will pay for the ith item of the shop considering the special discount.\n",
    "- https://leetcode.com/problems/final-prices-with-a-special-discount-in-a-shop/"
   ]
  },
  {
   "cell_type": "code",
   "execution_count": 42,
   "metadata": {},
   "outputs": [
    {
     "data": {
      "text/plain": [
       "[4, 2, 4, 2, 3]"
      ]
     },
     "execution_count": 42,
     "metadata": {},
     "output_type": "execute_result"
    }
   ],
   "source": [
    "def discount_price(prices):\n",
    "    \n",
    "    n = len(prices)                   # length\n",
    "      \n",
    "    for i in range(n-1):              # iterate over the array until the (n-1)th element\n",
    "        for j in range(i+1,n):        # from i+1, the next position from i, to the last element\n",
    "            if prices[i]>=prices[j]:  # if prices[j] <= prices[i]:\n",
    "                prices[i]-=prices[j]  # then take a discount prices[j] from prices[i] \n",
    "                break                 # this is the key: break the for loop as long as the first occurrence\n",
    "    return prices\n",
    "\n",
    "# test case\n",
    "prices = [8,4,6,2,3]\n",
    "discount_price(prices)"
   ]
  },
  {
   "cell_type": "markdown",
   "metadata": {},
   "source": [
    "---"
   ]
  },
  {
   "cell_type": "markdown",
   "metadata": {},
   "source": [
    "# Question 6: Reverse Words in a String III, by Amazon\n",
    "- Given a string, you need to reverse the order of characters in each word within a sentence while still preserving whitespace and initial word order.\n",
    "- https://leetcode.com/problems/reverse-words-in-a-string-iii/"
   ]
  },
  {
   "cell_type": "code",
   "execution_count": 4,
   "metadata": {},
   "outputs": [
    {
     "data": {
      "text/plain": [
       "\"s'teL ekat edoCteeL tsetnoc \""
      ]
     },
     "execution_count": 4,
     "metadata": {},
     "output_type": "execute_result"
    }
   ],
   "source": [
    "def reverse_words(s):\n",
    "    result = \"\" \n",
    "    new = s.split(\" \")\n",
    "    for word in new: \n",
    "        word = word[::-1]+\" \"\n",
    "        result += word\n",
    "    result.rstrip()     \n",
    "    return result     #rstrip does not work everywhere; it only works at the beginning or end of a function!!!!!!!!!!\n",
    "\n",
    "# test case\n",
    "reverse_words(s =\"Let's take LeetCode contest\")"
   ]
  },
  {
   "cell_type": "markdown",
   "metadata": {},
   "source": [
    "--- "
   ]
  }
 ],
 "metadata": {
  "kernelspec": {
   "display_name": "Python 3",
   "language": "python",
   "name": "python3"
  },
  "language_info": {
   "codemirror_mode": {
    "name": "ipython",
    "version": 3
   },
   "file_extension": ".py",
   "mimetype": "text/x-python",
   "name": "python",
   "nbconvert_exporter": "python",
   "pygments_lexer": "ipython3",
   "version": "3.7.4"
  }
 },
 "nbformat": 4,
 "nbformat_minor": 2
}
