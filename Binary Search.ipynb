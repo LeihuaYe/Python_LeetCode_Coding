{
 "cells": [
  {
   "cell_type": "markdown",
   "metadata": {},
   "source": [
    "# Question 1: Sqrt(x), by FAANG\n",
    "- Given a non-negative integer x, compute and return the square root of x.\n",
    "- Since the return type is an integer, the decimal digits are truncated, and only the integer part of the result is returned.\n",
    "- For example, the square root of 8 is 2.82842, but this function should only return the integer part, 2. \n",
    "- https://leetcode.com/problems/sqrtx/"
   ]
  },
  {
   "cell_type": "code",
   "execution_count": 1,
   "metadata": {},
   "outputs": [
    {
     "data": {
      "text/plain": [
       "2"
      ]
     },
     "execution_count": 1,
     "metadata": {},
     "output_type": "execute_result"
    }
   ],
   "source": [
    "# solution 1: numpy \n",
    "\n",
    "import numpy as np \n",
    "\n",
    "full_sqrt_root = np.sqrt(8)\n",
    "\n",
    "np.floor(full_sqrt_root) # method 1; the result is a float\n",
    "int(full_sqrt_root)      # method 2; the result is an integer they are equivalent "
   ]
  },
  {
   "cell_type": "code",
   "execution_count": 2,
   "metadata": {},
   "outputs": [
    {
     "data": {
      "text/plain": [
       "3"
      ]
     },
     "execution_count": 2,
     "metadata": {},
     "output_type": "execute_result"
    }
   ],
   "source": [
    "# solution 2: no built-in function & binary search \n",
    "\n",
    "def sqrt(x):\n",
    "    \n",
    "    if x < 2:                         # exception: if x<2, we can't use the binary search\n",
    "        \n",
    "        return x                      # in that case, the result is x itself\n",
    "\n",
    "    left, right = 2, x/2              # step 1: define the searching space: from left to right\n",
    "    \n",
    "    while left <= right:            \n",
    "        \n",
    "        root = left+ (right-left)//2  # step 2: take a wild guess, we randomly start from the middle between left and right\n",
    "        \n",
    "        root_squared = root**2\n",
    "                                     # step 3: if...elif...else statement\n",
    "        if root_squared == x:        # 3.1 if they are the same: return the value\n",
    "            return root\n",
    "        \n",
    "        elif root_squared < x:       # 3.2 if root_squared < x, then move the left boundary up: left = root+1\n",
    "            left = root+1\n",
    "            \n",
    "        else:                        # 3.3 if root_squared > x: then move the right boundary down: right = root-1\n",
    "            right = root-1\n",
    "            \n",
    "    return int(right)                 # return the result\n",
    "\n",
    "sqrt(10)"
   ]
  },
  {
   "cell_type": "markdown",
   "metadata": {},
   "source": [
    "---"
   ]
  },
  {
   "cell_type": "markdown",
   "metadata": {},
   "source": [
    "# Question 2: Binary Search, by Amazon, MS, Paypal, and Bloomberg\n",
    "- Given a sorted (in ascending order) integer array nums of n elements and a target value, write a function to search target in nums. If target exists, then return its index, otherwise return -1.\n",
    "- https://leetcode.com/problems/binary-search/"
   ]
  },
  {
   "cell_type": "code",
   "execution_count": 3,
   "metadata": {},
   "outputs": [
    {
     "data": {
      "text/plain": [
       "4"
      ]
     },
     "execution_count": 3,
     "metadata": {},
     "output_type": "execute_result"
    }
   ],
   "source": [
    "# solution 1: enumerate()\n",
    "\n",
    "def search(nums,target):\n",
    "    for index,value in enumerate(nums):\n",
    "        if value == target:\n",
    "            return index\n",
    "    else:\n",
    "        return -1\n",
    "    \n",
    "# test case \n",
    "nums_1 = [-1,0,3,5,9,12]\n",
    "target_1 = 9\n",
    "search(nums=nums_1,target=target_1)"
   ]
  },
  {
   "cell_type": "code",
   "execution_count": 4,
   "metadata": {},
   "outputs": [],
   "source": [
    "# one-liner: list comprehension\n",
    "[index for index,value in enumerate(nums_1) if value == target_1]\n",
    "nums_1 = [-1,0,3,5,9,12]\n",
    "target_1 = 9"
   ]
  },
  {
   "cell_type": "code",
   "execution_count": 5,
   "metadata": {},
   "outputs": [
    {
     "data": {
      "text/plain": [
       "4"
      ]
     },
     "execution_count": 5,
     "metadata": {},
     "output_type": "execute_result"
    }
   ],
   "source": [
    "# solution 2: binary search\n",
    "def binary_search(nums, target):\n",
    "    \n",
    "    left, right = 0, len(nums)-1       # define search space: left, right, and middle\n",
    "    \n",
    "    while left<=right:\n",
    "        \n",
    "        middle = left+(right-left)//2   # start from the middle\n",
    "        \n",
    "        if nums[middle] == target:      # use if-elif-else statements to filter\n",
    "            return middle\n",
    "        \n",
    "        elif nums[middle]>target:       # move up if the element is bigger than the target\n",
    "            right = middle -1\n",
    "            \n",
    "        else:\n",
    "            left = middle +1            # move down if the element is smaller than the target\n",
    "            \n",
    "    return -1                           # return -1 if no available value found\n",
    "\n",
    "# test case \n",
    "nums_1 = [-1,0,3,5,9,12]\n",
    "target_1 = 9\n",
    "binary_search(nums=nums_1,target=target_1)"
   ]
  },
  {
   "cell_type": "markdown",
   "metadata": {},
   "source": [
    "---"
   ]
  },
  {
   "cell_type": "markdown",
   "metadata": {},
   "source": [
    "# Question 3: Check If a Number Is Majority Element in a Sorted Array, by Facebook\n",
    "- Given an array nums sorted in non-decreasing order, and a number target, return True if and only if target is a majority element.\n",
    "- A majority element is an element that appears more than N/2 times in an array of length N.\n",
    "- https://leetcode.com/problems/check-if-a-number-is-majority-element-in-a-sorted-array/ "
   ]
  },
  {
   "cell_type": "code",
   "execution_count": 7,
   "metadata": {},
   "outputs": [
    {
     "name": "stdout",
     "output_type": "stream",
     "text": [
      "Result for the 1st test case is:  True\n",
      "Result for the 2nd test case is:  False\n"
     ]
    }
   ],
   "source": [
    "# solution 1: built-in function \n",
    "\n",
    "from collections import Counter\n",
    "\n",
    "def IsMajorityElement(nums, target):\n",
    "    \n",
    "    N = len(nums)                      # the length\n",
    "    \n",
    "    counter = Counter(nums)            # create a Counter of nums: to calculate the times of appearances for each element \n",
    "    \n",
    "    for i in nums:\n",
    "        return counter[target] > N/2   # return True if the element > N/2\n",
    "    \n",
    "# test case 1\n",
    "nums_1 = [2,4,5,5,5,5,5,6,6]\n",
    "target_1 = 5\n",
    "print(\"Result for the 1st test case is: \", IsMajorityElement(nums_1,target_1))\n",
    "\n",
    "# test case 2\n",
    "nums_2 = [10,100,101,101]\n",
    "target_2 = 101\n",
    "print(\"Result for the 2nd test case is: \", IsMajorityElement(nums_2,target_2))"
   ]
  },
  {
   "cell_type": "code",
   "execution_count": 8,
   "metadata": {},
   "outputs": [
    {
     "data": {
      "text/plain": [
       "True"
      ]
     },
     "execution_count": 8,
     "metadata": {},
     "output_type": "execute_result"
    }
   ],
   "source": [
    "# basic version 1: use binary search to check if target is in nums (list)\n",
    "\n",
    "def isMajorityElement(nums, target):\n",
    "    \n",
    "    left, right = 0, len(nums)-1\n",
    "    \n",
    "    while left<=right: \n",
    "        \n",
    "        middle = left+(right-left)//2\n",
    "        \n",
    "        if nums[middle] == target: \n",
    "            return True\n",
    "        \n",
    "        elif nums[middle] > target:\n",
    "            right = middle-1\n",
    "            \n",
    "        else:\n",
    "            \n",
    "            left = middle+1\n",
    "        \n",
    "    return False\n",
    "\n",
    "nums = [10,100,101,101,101,101,101,101,101,101,101]\n",
    "target = 101\n",
    "isMajorityElement(nums,target)"
   ]
  },
  {
   "cell_type": "code",
   "execution_count": 9,
   "metadata": {},
   "outputs": [
    {
     "name": "stdout",
     "output_type": "stream",
     "text": [
      "The Leftmost Occurrence is at Position: 2\n"
     ]
    }
   ],
   "source": [
    "# basic version 2.1: use binary search to find the first occurence of an element in nums (sorted non-decreasing list)\n",
    "# aka, the leftmost of an element in a sorted non-decreasing list \n",
    "\n",
    "def search_left(nums,target):\n",
    "    \n",
    "    left,right = 0,len(nums)\n",
    "    \n",
    "    while left< right:\n",
    "        \n",
    "        middle = (left+right)//2\n",
    "        \n",
    "        if nums[middle]<target:\n",
    "            \n",
    "            left = middle+1\n",
    "            \n",
    "        else:\n",
    "            \n",
    "            right = middle\n",
    "            \n",
    "    return left    \n",
    "\n",
    "nums = [10,100,101,101,101,101,101,101,101,101,101] # position 2\n",
    "target = 101\n",
    "\n",
    "print(\"The Leftmost Occurrence is at Position:\", search_left(nums,target))"
   ]
  },
  {
   "cell_type": "code",
   "execution_count": 10,
   "metadata": {},
   "outputs": [
    {
     "name": "stdout",
     "output_type": "stream",
     "text": [
      "The Rightmost Occurrence is at Position: 11\n"
     ]
    }
   ],
   "source": [
    "# basic version 2.2: binary search to find the last occurence of an element in nums (sorted non-decreasing list)\n",
    "# aka. the rightmost of an element in a sorted non-decreasing list \n",
    "\n",
    "def search_right(nums,target):\n",
    "    \n",
    "    left,right = 0, len(nums)\n",
    "    \n",
    "    while left < right: \n",
    "        \n",
    "        middle = (left+right)//2\n",
    "        \n",
    "        if nums[middle] > target: \n",
    "            \n",
    "            right = middle\n",
    "            \n",
    "        else:\n",
    "            \n",
    "            left = middle+1\n",
    "            \n",
    "    return right-1\n",
    "\n",
    "nums = [10,100,100,101,101,101,101,101,101,101,101,101,122] # position 11\n",
    "target = 101\n",
    "\n",
    "print(\"The Rightmost Occurrence is at Position:\", search_right(nums,target))"
   ]
  },
  {
   "cell_type": "code",
   "execution_count": 11,
   "metadata": {},
   "outputs": [
    {
     "data": {
      "text/plain": [
       "True"
      ]
     },
     "execution_count": 11,
     "metadata": {},
     "output_type": "execute_result"
    }
   ],
   "source": [
    "# advanced version 3.1: binary search & no built-in function (bisect) --> to check if target is the majority case in nums\n",
    "\n",
    "def isMajorityElement(nums,target):\n",
    "    \n",
    "    ### the below is helper function\n",
    "    # purpose: to find the leftmost position of target in nums\n",
    "    \n",
    "    def search_left(nums,target):    \n",
    "        left,right = 0,len(nums)\n",
    "        while left< right:           # the while loop is the same as the one in basic version 2.1, described above\n",
    "            middle = (left+right)//2 \n",
    "            if nums[middle]<target:\n",
    "                left = middle+1\n",
    "            else:\n",
    "                right = middle\n",
    "        return left\n",
    "    \n",
    "    ### the above is helper function\n",
    "\n",
    "    N = len(nums)                        # length of nums\n",
    "    if nums[N//2] != target:             # if the middle value of nums is not target, then target is definitely not the majority case\n",
    "        return False\n",
    "    \n",
    "    left = search_left(nums,target)      # find the leftmost position of target \n",
    "    right = search_left(nums,target+0.5) # find the next value that is 0.5 bigger than target --> the search value = the rightmost position of target\n",
    "    \n",
    "    return (right-left) > N//2           # check if the range, the difference between the rightmost and leftmost positions, equals to N//2\n",
    "\n",
    "nums = [10,100,101,101,101,101,101,101,101,101,101,222]\n",
    "target = 101\n",
    "isMajorityElement(nums,target)"
   ]
  },
  {
   "cell_type": "code",
   "execution_count": 12,
   "metadata": {},
   "outputs": [
    {
     "data": {
      "text/plain": [
       "True"
      ]
     },
     "execution_count": 12,
     "metadata": {},
     "output_type": "execute_result"
    }
   ],
   "source": [
    "# advanced version 3.2: use binary search to check if target is the majority case in nums\n",
    "\n",
    "# bisect.bisect_left: returns the leftmost place in the sorted list to insert the given element \n",
    "# bisect.bisect_right: returns the rightmost place in the sorted list to insert the given element\n",
    "# these two functions are equivalent when the element to be inserted isn't available in the list. \n",
    "\n",
    "import bisect\n",
    "\n",
    "def isMajorityElement(nums, target):\n",
    "    N = len(nums)\n",
    "    middle = int(N//2)\n",
    "    \n",
    "    if nums[middle] != target:\n",
    "        return False\n",
    "    \n",
    "    low = bisect.bisect_left(nums,target)\n",
    "    high = bisect.bisect_right(nums,target)\n",
    "    \n",
    "    return (high-low)> N//2\n",
    "\n",
    "# test case \n",
    "nums = [10,100,100,101,101,101,101,101,101,101,101,101,122] # position 11\n",
    "target = 101\n",
    "\n",
    "isMajorityElement(nums,target)"
   ]
  },
  {
   "cell_type": "markdown",
   "metadata": {},
   "source": [
    "---"
   ]
  }
 ],
 "metadata": {
  "kernelspec": {
   "display_name": "Python 3",
   "language": "python",
   "name": "python3"
  },
  "language_info": {
   "codemirror_mode": {
    "name": "ipython",
    "version": 3
   },
   "file_extension": ".py",
   "mimetype": "text/x-python",
   "name": "python",
   "nbconvert_exporter": "python",
   "pygments_lexer": "ipython3",
   "version": "3.7.4"
  }
 },
 "nbformat": 4,
 "nbformat_minor": 2
}
