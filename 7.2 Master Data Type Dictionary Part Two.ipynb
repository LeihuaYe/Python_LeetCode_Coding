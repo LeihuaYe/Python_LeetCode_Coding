{
 "cells": [
  {
   "cell_type": "markdown",
   "metadata": {},
   "source": [
    "# Question 1: Count the Number of Consistent Strings, by Robinhood\n",
    "- https://leetcode.com/problems/count-the-number-of-consistent-strings/ \n",
    "\n",
    "- You are given a string allowed consisting of distinct characters and an array of strings words. A string is consistent if all characters in the string appear in the string allowed.\n",
    "\n",
    "- Return the number of consistent strings in the array words.\n",
    "\n",
    "    - Input: allowed = \"ab\", words = [\"ad\",\"bd\",\"aaab\",\"baa\",\"badab\"]\n",
    "    - Output: 2\n",
    "    - Explanation: Strings \"aaab\" and \"baa\" are consistent since they only contain characters 'a' and 'b'."
   ]
  },
  {
   "cell_type": "code",
   "execution_count": 1,
   "metadata": {},
   "outputs": [
    {
     "data": {
      "text/plain": [
       "2"
      ]
     },
     "execution_count": 1,
     "metadata": {},
     "output_type": "execute_result"
    }
   ],
   "source": [
    "def count_consistent_strings(allowed,words):\n",
    "    new = []\n",
    "    count = 0 \n",
    "    for w in words:\n",
    "        new.append(set(w))\n",
    "    for i in new:\n",
    "        if i.issubset(allowed):\n",
    "            count+=1\n",
    "    return count        \n",
    "\n",
    "# test case\n",
    "allowed = \"ab\"\n",
    "words = [\"ad\",\"bd\",\"aaab\",\"baa\",\"badab\"]\n",
    "count_consistent_strings(allowed,words)"
   ]
  },
  {
   "cell_type": "markdown",
   "metadata": {},
   "source": [
    "---"
   ]
  },
  {
   "cell_type": "markdown",
   "metadata": {},
   "source": [
    "# Question 2: Maximum Number of Balls in a Box, by Microsoft\n",
    "- https://leetcode.com/problems/maximum-number-of-balls-in-a-box/  \n",
    "- You are working in a ball factory where you have n balls numbered from lowLimit up to highLimit inclusive (i.e., n == highLimit - lowLimit + 1), and an infinite number of boxes numbered from 1 to infinity.\n",
    "- Your job at this factory is to put each ball in the box with a number equal to the sum of digits of the ball's number. For example, the ball number 321 will be put in the box number 3 + 2 + 1 = 6 and the ball number 10 will be put in the box number 1 + 0 = 1.\n",
    "- Given two integers lowLimit and highLimit, return the number of balls in the box with the most balls.\n",
    "\n",
    "        - Input: lowLimit = 1, highLimit = 10\n",
    "        - Output: 2\n",
    "        - Explanation:\n",
    "            Box Number:  1 2 3 4 5 6 7 8 9 10 11 ...\n",
    "            Ball Count:  2 1 1 1 1 1 1 1 1 0  0  ...\n",
    "        - Box 1 has the most number of balls with 2 balls."
   ]
  },
  {
   "cell_type": "code",
   "execution_count": 2,
   "metadata": {},
   "outputs": [
    {
     "data": {
      "text/plain": [
       "2"
      ]
     },
     "execution_count": 2,
     "metadata": {},
     "output_type": "execute_result"
    }
   ],
   "source": [
    "def countBalls(lowLimit, highLimit):\n",
    "    dict={}\n",
    "        \n",
    "    for i in range(lowLimit, highLimit+1):\n",
    "        total=0\n",
    "        for j in str(i):\n",
    "            total+=int(j)\n",
    "                \n",
    "        if total not in dict:\n",
    "            dict[total]=0\n",
    "                \n",
    "        dict[total]+=1\n",
    "            \n",
    "    return max([dict[i] for i in dict])\n",
    "\n",
    "# test case\n",
    "lowLimit = 1\n",
    "highLimit = 10\n",
    "countBalls(lowLimit, highLimit)"
   ]
  },
  {
   "cell_type": "markdown",
   "metadata": {},
   "source": [
    "---"
   ]
  },
  {
   "cell_type": "markdown",
   "metadata": {},
   "source": [
    "# Question 3. Relative Sort Array, by Amazon\n",
    "- https://leetcode.com/problems/relative-sort-array/ \n",
    "- Given two arrays arr1 and arr2, the elements of arr2 are distinct, and all elements in arr2 are also in arr1.\n",
    "- Sort the elements of arr1 such that the relative ordering of items in arr1 are the same as in arr2.  Elements that don't appear in arr2 should be placed at the end of arr1 in ascending order.\n",
    "    - Example 1:\n",
    "        - Input: arr1 = [2,3,1,3,2,4,6,7,9,2,19], arr2 = [2,1,4,3,9,6]\n",
    "        - Output: [2,2,2,1,4,3,3,9,6,7,19]"
   ]
  },
  {
   "cell_type": "code",
   "execution_count": 3,
   "metadata": {},
   "outputs": [
    {
     "data": {
      "text/plain": [
       "[2, 2, 2, 1, 4, 3, 3, 9, 6, 7, 19]"
      ]
     },
     "execution_count": 3,
     "metadata": {},
     "output_type": "execute_result"
    }
   ],
   "source": [
    "import collections\n",
    "def relativeSortArray(arr1,arr2):\n",
    "    new = []\n",
    "    \n",
    "    new_2 = []\n",
    "    \n",
    "    counter = collections.Counter(arr1)\n",
    "    \n",
    "    for i in arr2:\n",
    "        if i in arr1:\n",
    "            new.extend([i]*counter[i])\n",
    "            \n",
    "    for i in arr1:\n",
    "        if i not in arr2:\n",
    "            new_2.append(i)\n",
    "            \n",
    "    new_2.sort()        \n",
    "    \n",
    "    return new+new_2\n",
    "\n",
    "# test case\n",
    "arr1 = [2,3,1,3,2,4,6,7,9,2,19]\n",
    "arr2 = [2,1,4,3,9,6]\n",
    "relativeSortArray(arr1,arr2)"
   ]
  },
  {
   "cell_type": "markdown",
   "metadata": {},
   "source": [
    "---"
   ]
  },
  {
   "cell_type": "markdown",
   "metadata": {},
   "source": [
    "# Question 4: Find All Duplicates in an Array, by Facebook, Amazon, and Microsoft\n",
    "- https://leetcode.com/problems/find-all-duplicates-in-an-array/\n",
    "\n",
    "- Given an integer array nums of length n where all the integers of nums are in the range [1, n] and each integer appears once or twice, return an array of all the integers that appears twice.\n",
    "\n",
    "- You must write an algorithm that runs in O(n) time and uses only constant extra space.\n",
    "\n",
    "        - Input: nums = [4,3,2,7,8,2,3,1]\n",
    "        - Output: [2,3]"
   ]
  },
  {
   "cell_type": "code",
   "execution_count": 4,
   "metadata": {},
   "outputs": [
    {
     "data": {
      "text/plain": [
       "[3, 2]"
      ]
     },
     "execution_count": 4,
     "metadata": {},
     "output_type": "execute_result"
    }
   ],
   "source": [
    "def findDuplicates(nums):\n",
    "    dict_1 = {}\n",
    "    for i in nums: \n",
    "        if i not in dict_1:\n",
    "            dict_1[i]=1\n",
    "        else:\n",
    "            dict_1[i]+=1\n",
    "        \n",
    "    result = []\n",
    "    \n",
    "    for index,value in dict_1.items():\n",
    "        if value==2:\n",
    "            result.append(index)\n",
    "        \n",
    "    return result\n",
    "\n",
    "# test case\n",
    "nums = [4,3,2,7,8,2,3,1]\n",
    "findDuplicates(nums)"
   ]
  },
  {
   "cell_type": "markdown",
   "metadata": {},
   "source": [
    "---"
   ]
  },
  {
   "cell_type": "markdown",
   "metadata": {},
   "source": [
    "# Question 5: 4Sum II, by Amazon and Adobe\n",
    "- https://leetcode.com/problems/4sum-ii/\n",
    "    \n",
    "- Given four integer arrays nums1, nums2, nums3, and nums4 all of length n, return the number of tuples (i, j, k, l) such that:\n",
    "\n",
    "        - 0 <= i, j, k, l < n\n",
    "        - nums1[i] + nums2[j] + nums3[k] + nums4[l] == 0"
   ]
  },
  {
   "cell_type": "code",
   "execution_count": 5,
   "metadata": {},
   "outputs": [
    {
     "data": {
      "text/plain": [
       "2"
      ]
     },
     "execution_count": 5,
     "metadata": {},
     "output_type": "execute_result"
    }
   ],
   "source": [
    "def fourSumCount(A,B,C,D):\n",
    "    \n",
    "    count = 0 \n",
    "        \n",
    "    dict_1 = {}\n",
    "        \n",
    "    for a in nums1:\n",
    "        for b in nums2:\n",
    "            dict_1[a+b] = dict_1.get(a+b,0)+1\n",
    "    \n",
    "    for c in nums3:\n",
    "        for d in nums4:\n",
    "            count += dict_1.get(-(c+d),0)\n",
    "    \n",
    "    return count\n",
    "\n",
    "# test case\n",
    "nums1 = [1,2]\n",
    "nums2 = [-2,-1]\n",
    "nums3 = [-1,2]\n",
    "nums4 = [0,2]\n",
    "fourSumCount(nums1,nums2,nums3,nums4)"
   ]
  }
 ],
 "metadata": {
  "kernelspec": {
   "display_name": "Python 3",
   "language": "python",
   "name": "python3"
  },
  "language_info": {
   "codemirror_mode": {
    "name": "ipython",
    "version": 3
   },
   "file_extension": ".py",
   "mimetype": "text/x-python",
   "name": "python",
   "nbconvert_exporter": "python",
   "pygments_lexer": "ipython3",
   "version": "3.7.4"
  }
 },
 "nbformat": 4,
 "nbformat_minor": 2
}
