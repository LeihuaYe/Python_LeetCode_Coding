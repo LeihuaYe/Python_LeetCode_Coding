{
 "cells": [
  {
   "cell_type": "markdown",
   "metadata": {},
   "source": [
    "# Question 1: Remove All Adjacent Duplicates In String, by Facebook, Amazon, Bloomberg, Oracle\n",
    "- Given a string S of lowercase letters, a duplicate removal consists of choosing two adjacent and equal letters, and removing them.\n",
    "- We repeatedly make duplicate removals on S until we no longer can.\n",
    "- Return the final string after all such duplicate removals have been made.  It is guaranteed the answer is unique.\n",
    "- https://leetcode.com/problems/remove-all-adjacent-duplicates-in-string/"
   ]
  },
  {
   "cell_type": "code",
   "execution_count": 12,
   "metadata": {},
   "outputs": [
    {
     "data": {
      "text/plain": [
       "'ca'"
      ]
     },
     "execution_count": 12,
     "metadata": {},
     "output_type": "execute_result"
    }
   ],
   "source": [
    "def removeDuplicates(S):\n",
    "    list_1 = []\n",
    "    for i in S:\n",
    "        if list_1 and i==list_1[-1]:\n",
    "            list_1.pop()\n",
    "        else:\n",
    "            list_1.append(i)\n",
    "    return \"\".join(list_1)\n",
    "\n",
    "# test case \n",
    "S = \"abbaca\"\n",
    "removeDuplicates(S)"
   ]
  },
  {
   "cell_type": "markdown",
   "metadata": {},
   "source": [
    "----"
   ]
  },
  {
   "cell_type": "markdown",
   "metadata": {},
   "source": [
    "# Question 2: Make The String Great, by Google\n",
    "- Given a string s of lower and upper case English letters.\n",
    "- A good string is a string which doesn't have two adjacent characters s[i] and s[i + 1] where: 0 <= i <= s.length - 2\n",
    "- s[i] is a lower-case letter and s[i + 1] is the same letter but in upper-case or vice-versa.\n",
    "- To make the string good, you can choose two adjacent characters that make the string bad and remove them. You can keep doing this until the string becomes good.\n",
    "- Return the string after making it good. The answer is guaranteed to be unique under the given constraints.\n",
    "- Notice that an empty string is also good.\n",
    "- https://leetcode.com/problems/make-the-string-great/"
   ]
  },
  {
   "cell_type": "code",
   "execution_count": 13,
   "metadata": {},
   "outputs": [
    {
     "data": {
      "text/plain": [
       "'leetcode'"
      ]
     },
     "execution_count": 13,
     "metadata": {},
     "output_type": "execute_result"
    }
   ],
   "source": [
    "# solution 1\n",
    "def makeGood(s):\n",
    "    stack = []\n",
    "    for i in s: \n",
    "        if stack and stack[-1] != i and stack[-1].lower() == i.lower():\n",
    "            stack.pop()\n",
    "        else:\n",
    "            stack.append(i)\n",
    "    return \"\".join(stack)\n",
    "\n",
    "#test case\n",
    "s = 'leEeetcode'\n",
    "makeGood(s)"
   ]
  },
  {
   "cell_type": "code",
   "execution_count": 14,
   "metadata": {},
   "outputs": [
    {
     "data": {
      "text/plain": [
       "'leetcode'"
      ]
     },
     "execution_count": 14,
     "metadata": {},
     "output_type": "execute_result"
    }
   ],
   "source": [
    "# solution 2\n",
    "def makeGood(s):\n",
    "    stack = []\n",
    "    \n",
    "    for i in s: \n",
    "        if stack and stack[-1] == i.swapcase():   # easy way of changing letter case\n",
    "            stack.pop()\n",
    "            \n",
    "        else:\n",
    "            stack.append(i)\n",
    "    return \"\".join(stack)\n",
    "\n",
    "#test case\n",
    "s = 'leEeetcode'\n",
    "makeGood(s)"
   ]
  },
  {
   "cell_type": "markdown",
   "metadata": {},
   "source": [
    "---"
   ]
  },
  {
   "cell_type": "markdown",
   "metadata": {},
   "source": [
    "# Question 3: Build an Array With Stack Operations, by Google\n",
    "- Given an array target and an integer n. In each iteration, you will read a number from  list = {1,2,3..., n}.\n",
    "- Build the target array using the following operations:\n",
    "    - Push: Read a new element from the beginning list, and push it in the array.\n",
    "    - Pop: delete the last element of the array.\n",
    "    - If the target array is already built, stop reading more elements.\n",
    "- Return the operations to build the target array. You are guaranteed that the answer is unique.\n",
    "- https://leetcode.com/problems/build-an-array-with-stack-operations/"
   ]
  },
  {
   "cell_type": "code",
   "execution_count": 15,
   "metadata": {},
   "outputs": [
    {
     "data": {
      "text/plain": [
       "['Push', 'Push', 'Pop', 'Push']"
      ]
     },
     "execution_count": 15,
     "metadata": {},
     "output_type": "execute_result"
    }
   ],
   "source": [
    "def buildArray(target,n):\n",
    "    stack = []\n",
    "    \n",
    "    result = []\n",
    "        \n",
    "    for i in range(1,n+1):\n",
    "        if i in target: \n",
    "            stack.append(i)\n",
    "            result.append('Push')\n",
    "        else:\n",
    "            stack.append(i)\n",
    "            result.append('Push')\n",
    "            stack.pop()\n",
    "            result.append('Pop')\n",
    "                \n",
    "        if stack == target:\n",
    "            break\n",
    "                \n",
    "    return result\n",
    "\n",
    "# test case\n",
    "target = [1,3]\n",
    "n = 3\n",
    "buildArray(target,n)"
   ]
  },
  {
   "cell_type": "markdown",
   "metadata": {},
   "source": [
    "----"
   ]
  },
  {
   "cell_type": "markdown",
   "metadata": {},
   "source": [
    "# Question 4: Baseball Game, by Amazon\n",
    "- You are keeping score for a baseball game with strange rules. The game consists of several rounds, where the scores of past rounds may affect future rounds' scores.\n",
    "- At the beginning of the game, you start with an empty record. You are given a list of strings ops, where ops[i] is the ith operation you must apply to the record and is one of the following:\n",
    "- An integer x - Record a new score of x.\n",
    "    - \"+\" - Record a new score that is the sum of the previous two scores. It is guaranteed there will always be two previous scores.\n",
    "    - \"D\" - Record a new score that is double the previous score. It is guaranteed there will always be a previous score.\n",
    "    - \"C\" - Invalidate the previous score, removing it from the record. It is guaranteed there will always be a previous score.\n",
    "- Return the sum of all the scores on the record.\n",
    "- https://leetcode.com/problems/baseball-game/"
   ]
  },
  {
   "cell_type": "code",
   "execution_count": 16,
   "metadata": {},
   "outputs": [
    {
     "data": {
      "text/plain": [
       "30"
      ]
     },
     "execution_count": 16,
     "metadata": {},
     "output_type": "execute_result"
    }
   ],
   "source": [
    "def calPoints(ops):\n",
    "    stack = []\n",
    "    for i in ops: \n",
    "        if i == \"+\":\n",
    "            stack.append(stack[-1]+stack[-2])\n",
    "        elif i =='D':\n",
    "            stack.append(stack[-1]*2)\n",
    "        elif i == 'C':\n",
    "            stack.pop()\n",
    "        else:\n",
    "            stack.append(int(i))\n",
    "    return sum(stack)\n",
    "\n",
    "#test case\n",
    "ops = [\"5\",\"2\",\"C\",\"D\",\"+\"]\n",
    "calPoints(ops)"
   ]
  },
  {
   "cell_type": "markdown",
   "metadata": {},
   "source": [
    "----"
   ]
  },
  {
   "cell_type": "markdown",
   "metadata": {},
   "source": [
    "# Question 5: Next Greater Element I, by Amazon and Bloomberg\n",
    "- You are given two integer arrays nums1 and nums2 both of unique elements, where nums1 is a subset of nums2.\n",
    "- Find all the next greater numbers for nums1's elements in the corresponding places of nums2.\n",
    "- The Next Greater Number of a number x in nums1 is the first greater number to its right in nums2. If it does not exist, return -1 for this number.\n",
    "- https://leetcode.com/problems/next-greater-element-i/"
   ]
  },
  {
   "cell_type": "code",
   "execution_count": 17,
   "metadata": {},
   "outputs": [
    {
     "data": {
      "text/plain": [
       "[-1, 3, -1]"
      ]
     },
     "execution_count": 17,
     "metadata": {},
     "output_type": "execute_result"
    }
   ],
   "source": [
    "# solution 1: brutal force using dictionary\n",
    "def Next_Greater_Element(nums1,nums2):\n",
    "    \n",
    "    seen = {}\n",
    "    \n",
    "    for index,value in enumerate(nums2):\n",
    "        seen[value]=index\n",
    "        \n",
    "        \n",
    "    result = []\n",
    "        \n",
    "    for i in nums1:\n",
    "        for j in range(seen[i],len(nums2)):\n",
    "            if i < nums2[j]:\n",
    "                result.append(nums2[j])\n",
    "                break\n",
    "        else:\n",
    "            result.append(-1)\n",
    "    return result\n",
    "\n",
    "# test case \n",
    "nums1 = [4,1,2]\n",
    "nums2 = [1,3,4,2]\n",
    "Next_Greater_Element(nums1,nums2)"
   ]
  },
  {
   "cell_type": "code",
   "execution_count": 1,
   "metadata": {},
   "outputs": [
    {
     "data": {
      "text/plain": [
       "[-1, 3, -1]"
      ]
     },
     "execution_count": 1,
     "metadata": {},
     "output_type": "execute_result"
    }
   ],
   "source": [
    "#solution 2: stack \n",
    "def Next_Greater_Element(nums1,nums2):\n",
    "    \n",
    "    stack = []\n",
    "    \n",
    "    ans = {}\n",
    "        \n",
    "    for num in nums2:\n",
    "\n",
    "        while stack and stack[-1] < num:\n",
    "            \n",
    "            anum = stack.pop()\n",
    "            \n",
    "            ans[anum] = num\n",
    "\n",
    "        stack.append(num)\n",
    "\n",
    "    return([ans.get(i,-1) for i in nums1]) # get i's value or return -1 if it does not exist\n",
    "\n",
    "# test case \n",
    "nums1 = [4,1,2]\n",
    "nums2 = [1,3,4,2]\n",
    "Next_Greater_Element(nums1,nums2)"
   ]
  },
  {
   "cell_type": "markdown",
   "metadata": {},
   "source": [
    "----"
   ]
  }
 ],
 "metadata": {
  "kernelspec": {
   "display_name": "Python 3",
   "language": "python",
   "name": "python3"
  },
  "language_info": {
   "codemirror_mode": {
    "name": "ipython",
    "version": 3
   },
   "file_extension": ".py",
   "mimetype": "text/x-python",
   "name": "python",
   "nbconvert_exporter": "python",
   "pygments_lexer": "ipython3",
   "version": "3.7.4"
  }
 },
 "nbformat": 4,
 "nbformat_minor": 2
}
