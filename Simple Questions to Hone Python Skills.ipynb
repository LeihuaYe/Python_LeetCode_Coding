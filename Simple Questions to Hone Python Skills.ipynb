{
 "cells": [
  {
   "cell_type": "markdown",
   "metadata": {},
   "source": [
    "# Question 1: Number of Good Pairs, by Microsoft and Amazon\n",
    "- Given an array of integers nums.\n",
    "- A pair (i,j) is called good if nums[i] == nums[j] and i < j.\n",
    "- Return the number of good pairs.\n",
    "- https://leetcode.com/problems/number-of-good-pairs/"
   ]
  },
  {
   "cell_type": "code",
   "execution_count": 8,
   "metadata": {},
   "outputs": [
    {
     "data": {
      "text/plain": [
       "4"
      ]
     },
     "execution_count": 8,
     "metadata": {},
     "output_type": "execute_result"
    }
   ],
   "source": [
    "# solution 1: brutal force & a nested for loop\n",
    "def good_pair(nums):\n",
    "    count = 0 \n",
    "    for i in range(len(nums)):\n",
    "        for j in range(i+1,len(nums)):\n",
    "            if nums[i] ==nums[j]:\n",
    "                count+=1\n",
    "    return count\n",
    "\n",
    "# test case \n",
    "nums = [1,2,3,1,1,3]\n",
    "\n",
    "good_pair(nums)"
   ]
  },
  {
   "cell_type": "code",
   "execution_count": 17,
   "metadata": {},
   "outputs": [
    {
     "data": {
      "text/plain": [
       "4"
      ]
     },
     "execution_count": 17,
     "metadata": {},
     "output_type": "execute_result"
    }
   ],
   "source": [
    "# solution 2: dictionary & hashmap\n",
    "def good_pair(nums):\n",
    "    \n",
    "    hashmap = {}\n",
    "    count = 0 \n",
    "    \n",
    "    for num in nums:              # read elements from nums sequentially \n",
    "        if num in hashmap:\n",
    "            count += hashmap[num]\n",
    "            hashmap[num]+=1\n",
    "\n",
    "        else: \n",
    "            hashmap[num]=1\n",
    "    return count \n",
    "\n",
    "# test case \n",
    "nums = [1,2,3,1,1,3]\n",
    "\n",
    "good_pair(nums)"
   ]
  },
  {
   "cell_type": "code",
   "execution_count": 18,
   "metadata": {},
   "outputs": [
    {
     "data": {
      "text/plain": [
       "12"
      ]
     },
     "execution_count": 18,
     "metadata": {},
     "output_type": "execute_result"
    }
   ],
   "source": [
    "number = 123\n",
    "#num = number%10\n",
    "\n",
    "number/=10\n",
    "int(number)"
   ]
  },
  {
   "cell_type": "markdown",
   "metadata": {},
   "source": [
    "--- "
   ]
  },
  {
   "cell_type": "markdown",
   "metadata": {},
   "source": [
    "# Question 2: Armstrong Number, by Amazon\n",
    "- The k-digit number N is an Armstrong number if and only if the k-th power of each digit sums to N.\n",
    "- Given a positive integer N, return true if and only if it is an Armstrong number.\n",
    "- https://leetcode.com/problems/armstrong-number/"
   ]
  },
  {
   "cell_type": "code",
   "execution_count": 19,
   "metadata": {},
   "outputs": [
    {
     "data": {
      "text/plain": [
       "True"
      ]
     },
     "execution_count": 19,
     "metadata": {},
     "output_type": "execute_result"
    }
   ],
   "source": [
    "# solution 1: change data type using int()\n",
    "\n",
    "def Armstrong(num):\n",
    "    \n",
    "    k = len(str(num))\n",
    "    \n",
    "    digit_sum =0\n",
    "    \n",
    "    for i in str(num):\n",
    "        digit_sum += int(i)**k\n",
    "\n",
    "    return digit_sum == num\n",
    "\n",
    "# test case \n",
    "Armstrong(num = 153)"
   ]
  },
  {
   "cell_type": "code",
   "execution_count": 2,
   "metadata": {},
   "outputs": [
    {
     "data": {
      "text/plain": [
       "True"
      ]
     },
     "execution_count": 2,
     "metadata": {},
     "output_type": "execute_result"
    }
   ],
   "source": [
    "# solution 2: pop and push \n",
    "\n",
    "def Armstrong_1(num):\n",
    "    num1 = num          # prepare num1 for comparison\n",
    "    k = len(str(num))\n",
    "\n",
    "    digit_sum= 0 \n",
    "    \n",
    "    while num != 0:\n",
    "        digit = num%10\n",
    "        digit_sum += digit**k\n",
    "        num = int(num/10)\n",
    "    return digit_sum  == num1\n",
    "\n",
    "# test case\n",
    "Armstrong_1(num = 153)"
   ]
  },
  {
   "cell_type": "markdown",
   "metadata": {},
   "source": [
    "---"
   ]
  },
  {
   "cell_type": "markdown",
   "metadata": {},
   "source": [
    "# Question 3: Count Primes, by FAANG\n",
    "- Count the number of prime numbers less than a non-negative number, n.\n",
    "- https://leetcode.com/problems/count-primes/"
   ]
  },
  {
   "cell_type": "code",
   "execution_count": 32,
   "metadata": {},
   "outputs": [
    {
     "data": {
      "text/plain": [
       "3"
      ]
     },
     "execution_count": 32,
     "metadata": {},
     "output_type": "execute_result"
    }
   ],
   "source": [
    "# solution 1: brutal force not efficient\n",
    "def countPrimes(n):\n",
    "    if n <=2:\n",
    "        return 0\n",
    "    count = 0 \n",
    "    for i in range(2,n):\n",
    "        for j in range(2,i):\n",
    "            if i%j ==0:\n",
    "                break\n",
    "        else:\n",
    "            count+=1\n",
    "    return count\n",
    "\n",
    "# test case\n",
    "countPrimes(7)# primes: 2,3,5"
   ]
  },
  {
   "cell_type": "code",
   "execution_count": 31,
   "metadata": {},
   "outputs": [
    {
     "data": {
      "text/plain": [
       "9592"
      ]
     },
     "execution_count": 31,
     "metadata": {},
     "output_type": "execute_result"
    }
   ],
   "source": [
    "# solution 2: Sieve of Eratosthene\n",
    "# super fast but have to remember the math\n",
    "def countPrimes(n):\n",
    "    if n < 3:\n",
    "        return 0\n",
    "    \n",
    "    primes = [True] * n\n",
    "    \n",
    "    primes[0] = primes[1] = False\n",
    "    \n",
    "    for i in range(2, int(n ** 0.5) + 1):\n",
    "        \n",
    "        if primes[i]:\n",
    "            \n",
    "            primes[i * i: n: i] = [False] * len(primes[i * i: n: i])\n",
    "            \n",
    "    return sum(primes)\n",
    "\n",
    "# test case\n",
    "countPrimes(100000)"
   ]
  },
  {
   "cell_type": "markdown",
   "metadata": {},
   "source": [
    "---"
   ]
  }
 ],
 "metadata": {
  "kernelspec": {
   "display_name": "Python 3",
   "language": "python",
   "name": "python3"
  },
  "language_info": {
   "codemirror_mode": {
    "name": "ipython",
    "version": 3
   },
   "file_extension": ".py",
   "mimetype": "text/x-python",
   "name": "python",
   "nbconvert_exporter": "python",
   "pygments_lexer": "ipython3",
   "version": "3.7.4"
  }
 },
 "nbformat": 4,
 "nbformat_minor": 2
}
