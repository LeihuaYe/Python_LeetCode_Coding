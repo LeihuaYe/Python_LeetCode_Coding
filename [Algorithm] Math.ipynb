{
 "cells": [
  {
   "cell_type": "markdown",
   "metadata": {},
   "source": [
    "# Question 1: Count Odd Numbers in an Interval Range, by Microsoft\n",
    "- Given two non-negative integers low and high. \n",
    "- Return the count of odd numbers between low and high (inclusive).\n",
    "- https://leetcode.com/problems/count-odd-numbers-in-an-interval-range/"
   ]
  },
  {
   "cell_type": "code",
   "execution_count": 26,
   "metadata": {
    "scrolled": false
   },
   "outputs": [
    {
     "data": {
      "text/plain": [
       "3"
      ]
     },
     "execution_count": 26,
     "metadata": {},
     "output_type": "execute_result"
    }
   ],
   "source": [
    "# solution 1: inefficient and exceed time limit for large numbers\n",
    "def countOdds(low,high):\n",
    "    count = 0 \n",
    "    for i in range(low,high+1):\n",
    "        if i%2 != 0:\n",
    "            count+=1\n",
    "    return count\n",
    "\n",
    "#test case\n",
    "countOdds(3,7)"
   ]
  },
  {
   "cell_type": "code",
   "execution_count": 27,
   "metadata": {},
   "outputs": [
    {
     "data": {
      "text/plain": [
       "3611111111111110"
      ]
     },
     "execution_count": 27,
     "metadata": {},
     "output_type": "execute_result"
    }
   ],
   "source": [
    "# solution 2: math\n",
    "# calculate the number of odd numbers between 1 and low-1: low//2\n",
    "# calculate the number of odd numbers between 1 and high: (high+1)//2\n",
    "# the difference is our result\n",
    "\n",
    "def countOdds(low, high) -> int:\n",
    "    return (high + 1) // 2 - low // 2\n",
    "\n",
    "#test case\n",
    "countOdds(3,7222222222222222)"
   ]
  },
  {
   "cell_type": "markdown",
   "metadata": {},
   "source": [
    "---"
   ]
  },
  {
   "cell_type": "markdown",
   "metadata": {},
   "source": [
    "# Question 2: Arranging Coins, by Bloomberg\n",
    "- You have a total of n coins that you want to form in a staircase shape, where every k-th row must have exactly k coins.\n",
    "- Given n, find the total number of full staircase rows that can be formed.\n",
    "- n is a non-negative integer and fits within the range of a 32-bit signed integer.\n",
    "- https://leetcode.com/problems/arranging-coins/"
   ]
  },
  {
   "cell_type": "code",
   "execution_count": 28,
   "metadata": {},
   "outputs": [
    {
     "data": {
      "text/plain": [
       "3"
      ]
     },
     "execution_count": 28,
     "metadata": {},
     "output_type": "execute_result"
    }
   ],
   "source": [
    "# solution: binary search \n",
    "def arranging(n):\n",
    "    left, right = 0, n \n",
    "    while left<=right: \n",
    "        k = (left+right)//2\n",
    "        current = k*(k+1)//2\n",
    "        if current == n:\n",
    "            return k\n",
    "        elif current >n:\n",
    "            right = k-1\n",
    "        else:\n",
    "            left = k+1\n",
    "    return right\n",
    "\n",
    "# test case \n",
    "n= 8\n",
    "arranging(n)"
   ]
  },
  {
   "cell_type": "markdown",
   "metadata": {},
   "source": [
    "----"
   ]
  },
  {
   "cell_type": "markdown",
   "metadata": {},
   "source": [
    "# Question 3: Strobogrammatic Number, by Facebook\n",
    "- A strobogrammatic number is a number that looks the same when rotated 180 degrees (looked at upside down).\n",
    "- Write a function to determine if a number is strobogrammatic. The number is represented as a string.\n",
    "- https://leetcode.com/problems/strobogrammatic-number/"
   ]
  },
  {
   "cell_type": "code",
   "execution_count": 30,
   "metadata": {},
   "outputs": [
    {
     "data": {
      "text/plain": [
       "True"
      ]
     },
     "execution_count": 30,
     "metadata": {},
     "output_type": "execute_result"
    }
   ],
   "source": [
    "def isStrobogrammatic(num):\n",
    "    temp = \"\"\n",
    "    valid = {'0':'0','1':'1', '6':'9', '8':'8', '9':'6'}\n",
    "    for i in reversed(num): # this is the key: we have to reverse the order first\n",
    "        if i not in valid: \n",
    "            return False\n",
    "            \n",
    "        else: \n",
    "            temp+=valid[i]\n",
    "                \n",
    "    return temp == num\n",
    "\n",
    "# test case \n",
    "num = \"69\"\n",
    "isStrobogrammatic(num)"
   ]
  },
  {
   "cell_type": "markdown",
   "metadata": {},
   "source": [
    "---"
   ]
  },
  {
   "cell_type": "markdown",
   "metadata": {},
   "source": [
    "# Question 4: Set Mismatch, by Amazon\n",
    "- The set S originally contains numbers from 1 to n. \n",
    "- But unfortunately, due to the data error, one of the numbers in the set got duplicated to another number in the set, which results in repetition of one number and loss of another number.\n",
    "- Given an array nums representing the data status of this set after the error. Your task is to firstly find the number occurs twice and then find the number that is missing. Return them in the form of an array.\n",
    "- https://leetcode.com/problems/set-mismatch/"
   ]
  },
  {
   "cell_type": "code",
   "execution_count": 31,
   "metadata": {},
   "outputs": [
    {
     "data": {
      "text/plain": [
       "[1, 2]"
      ]
     },
     "execution_count": 31,
     "metadata": {},
     "output_type": "execute_result"
    }
   ],
   "source": [
    "# solution: find the pattern \n",
    "def findErrorNums(nums):\n",
    "    return [sum(nums)-sum(set(nums)),sum(range(1,len(nums)+1)) - sum(set(nums))]# twice & missing value \n",
    "nums = [1,1]\n",
    "findErrorNums(nums)"
   ]
  },
  {
   "cell_type": "markdown",
   "metadata": {},
   "source": [
    "---"
   ]
  },
  {
   "cell_type": "markdown",
   "metadata": {},
   "source": [
    "# Question 5: Power of Three, by Goldman Sachs and Hulu\n",
    "- Given an integer n, return true if it is a power of three. Otherwise, return false.\n",
    "- An integer n is a power of three, if there exists an integer x such that n == 3x.\n",
    "- https://leetcode.com/problems/power-of-three/"
   ]
  },
  {
   "cell_type": "code",
   "execution_count": 21,
   "metadata": {},
   "outputs": [
    {
     "data": {
      "text/plain": [
       "True"
      ]
     },
     "execution_count": 21,
     "metadata": {},
     "output_type": "execute_result"
    }
   ],
   "source": [
    "# solution 1: while loop\n",
    "def isPowerOfThree(n):\n",
    "    \n",
    "    if n <1:\n",
    "        return False\n",
    "    \n",
    "    while n % 3 == 0:\n",
    "        n/=3\n",
    "        \n",
    "    return n==1\n",
    "    \n",
    "# test case \n",
    "isPowerOfThree(27)"
   ]
  },
  {
   "cell_type": "code",
   "execution_count": 23,
   "metadata": {},
   "outputs": [
    {
     "data": {
      "text/plain": [
       "False"
      ]
     },
     "execution_count": 23,
     "metadata": {},
     "output_type": "execute_result"
    }
   ],
   "source": [
    "# solution 2: recursion\n",
    "def isPowerOfThree(n):\n",
    "    \n",
    "    if n <1:\n",
    "        return False\n",
    "    \n",
    "    if n==1:\n",
    "        return True\n",
    "    \n",
    "    if n%3 !=0:\n",
    "        return False\n",
    "    \n",
    "    return n%3==0 and isPowerOfThree(n/3)\n",
    "\n",
    "# test case \n",
    "isPowerOfThree(n=20)"
   ]
  }
 ],
 "metadata": {
  "kernelspec": {
   "display_name": "Python 3",
   "language": "python",
   "name": "python3"
  },
  "language_info": {
   "codemirror_mode": {
    "name": "ipython",
    "version": 3
   },
   "file_extension": ".py",
   "mimetype": "text/x-python",
   "name": "python",
   "nbconvert_exporter": "python",
   "pygments_lexer": "ipython3",
   "version": "3.7.4"
  }
 },
 "nbformat": 4,
 "nbformat_minor": 2
}
