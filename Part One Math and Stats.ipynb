{
 "cells": [
  {
   "cell_type": "markdown",
   "metadata": {},
   "source": [
    "# Question 1: Who wins first? By Microsoft \n",
    "- Amy and Brad take turns in rolling a fair six-sided die. \n",
    "- Whoever rolls a “6” first wins the game. Amy starts by rolling first.\n",
    "- What’s the probability that Amy wins?"
   ]
  },
  {
   "cell_type": "code",
   "execution_count": 1,
   "metadata": {},
   "outputs": [],
   "source": [
    "import numpy as np\n",
    "\n",
    "def who_won(die, size):\n",
    "    \n",
    "    A_count = 0 # initialize A_count\n",
    "    \n",
    "    B_count = 0 # initialize B_count\n",
    "    \n",
    "    for i in range(size): # create an iteration \n",
    "        \n",
    "        A_6 = np.random.choice(die)  # roll the fair dice and choose a random value from 0 to 6\n",
    "        \n",
    "        if A_6 == 6:       # if A rolls a 6, then A_count adds 1. \n",
    "            \n",
    "            A_count+=1     # a side-note for Python beginners: the full expression is \"A_count = A_count+1.\"\n",
    "            \n",
    "        else:              # if the above if condition does not fullfill\n",
    "            \n",
    "            B_6 = np.random.choice(die)  # then, it's B's turn to roll the dice, which is a random choice from 0 to 6.\n",
    "            \n",
    "            if B_6 == 6:   # if B rolls a B, B_count adds 1.\n",
    "                \n",
    "                B_count+=1\n",
    "                \n",
    "    return A_count/(A_count+B_count)   # return the total number of cases that A won divided by the combined number of A and B wonaka. the result is the probability that Amy wins.  "
   ]
  },
  {
   "cell_type": "code",
   "execution_count": 2,
   "metadata": {},
   "outputs": [
    {
     "data": {
      "text/plain": [
       "0.531271015467384"
      ]
     },
     "execution_count": 2,
     "metadata": {},
     "output_type": "execute_result"
    }
   ],
   "source": [
    "# test case \n",
    "\n",
    "np.random.seed(123)\n",
    "\n",
    "die = [1,2,3,4,5,6]\n",
    "\n",
    "size = 10000\n",
    "\n",
    "who_won(die,size)"
   ]
  },
  {
   "cell_type": "markdown",
   "metadata": {},
   "source": [
    "---"
   ]
  },
  {
   "cell_type": "markdown",
   "metadata": {},
   "source": [
    "# Question 2: Maximum 69 Number\n",
    "- Given a positive integer num consisting only of digits 6 and 9.\n",
    "- Return the maximum number you can get by changing at most one digit (6 becomes 9, and 9 becomes 6).\n",
    "- https://leetcode.com/problems/maximum-69-number/"
   ]
  },
  {
   "cell_type": "code",
   "execution_count": 3,
   "metadata": {},
   "outputs": [
    {
     "data": {
      "text/plain": [
       "996666669"
      ]
     },
     "execution_count": 3,
     "metadata": {},
     "output_type": "execute_result"
    }
   ],
   "source": [
    "# replace once\n",
    "def max_69_once(num):\n",
    "    return int(str(num).replace('6','9',1))\n",
    "\n",
    "# test case\n",
    "num = 966666669\n",
    "max_69_once(num)"
   ]
  },
  {
   "cell_type": "code",
   "execution_count": 4,
   "metadata": {},
   "outputs": [
    {
     "data": {
      "text/plain": [
       "999999999"
      ]
     },
     "execution_count": 4,
     "metadata": {},
     "output_type": "execute_result"
    }
   ],
   "source": [
    "# variation 2: replace all 6s with 9s\n",
    "def max_69_all(num):\n",
    "    k = len(str(num))\n",
    "    return int(str(num).replace('6','9',k))\n",
    "\n",
    "# test case\n",
    "num = 966666669\n",
    "max_69_all(num)"
   ]
  },
  {
   "cell_type": "code",
   "execution_count": 5,
   "metadata": {},
   "outputs": [
    {
     "data": {
      "text/plain": [
       "999999999"
      ]
     },
     "execution_count": 5,
     "metadata": {},
     "output_type": "execute_result"
    }
   ],
   "source": [
    "# variation 2: replace all 6s with 9s\n",
    "def max_69aaa(num):\n",
    "\n",
    "    return int(str(num).replace('6','9'))\n",
    "\n",
    "# test case\n",
    "num = 966666669\n",
    "max_69aaa(num)"
   ]
  },
  {
   "cell_type": "markdown",
   "metadata": {},
   "source": [
    "---"
   ]
  },
  {
   "cell_type": "markdown",
   "metadata": {},
   "source": [
    "# Question 3 Valid Perfect Square, by Facebook\n",
    "- Given a positive integer num, write a function which returns True if num is a perfect square else False.\n",
    "- Follow up: Do not use any built-in library function such as sqrt.\n",
    "- https://leetcode.com/problems/valid-perfect-square/"
   ]
  },
  {
   "cell_type": "code",
   "execution_count": 3,
   "metadata": {},
   "outputs": [
    {
     "data": {
      "text/plain": [
       "True"
      ]
     },
     "execution_count": 3,
     "metadata": {},
     "output_type": "execute_result"
    }
   ],
   "source": [
    "# solution 1: using built-in library\n",
    "\n",
    "import math \n",
    "\n",
    "def valid_perfect_square(num):\n",
    "    return int(math.sqrt(num))**2==num  # the int() method only returns the integer part and leaves out the decimal part.\n",
    "                                        # For perfect squares, there should be no decimal part. The equation should thus hold.\n",
    "\n",
    "# test case \n",
    "valid_perfect_square(16)"
   ]
  },
  {
   "cell_type": "code",
   "execution_count": 8,
   "metadata": {},
   "outputs": [
    {
     "data": {
      "text/plain": [
       "True"
      ]
     },
     "execution_count": 8,
     "metadata": {},
     "output_type": "execute_result"
    }
   ],
   "source": [
    "# 1 find the squre root of num\n",
    "# 2 check if it is a perfect square number\n",
    "\n",
    "# solution: no built-in library & binary search\n",
    "def valid_perfect_square(num):\n",
    "    if num < 2: \n",
    "        return True\n",
    "    left, right = 2, num//2       # create two pointers: left and right \n",
    "    while left<=right:            # while loop to constantly update left and right \n",
    "        x = left + (right-left)//2# take a wild guess and treat x as the starting point\n",
    "        x_squared = x*x           # calculate the squared value of x\n",
    "        if x_squared == num:      # use the following 'if-else' statement to constantly update x_squared.\n",
    "            return True           # if there are the same, return True\n",
    "        if x_squared <num:        # if x_squared is smaller than num, left increases by 1\n",
    "            left= x+1 \n",
    "        else:                     # if x_squared is bigger, right decreases by 1\n",
    "            right= x-1\n",
    "    return False                  # the while loop should continue looping until left and right converge and no common value obtained\n",
    "\n",
    "# test case \n",
    "valid_perfect_square(16)"
   ]
  },
  {
   "cell_type": "markdown",
   "metadata": {},
   "source": [
    "---"
   ]
  },
  {
   "cell_type": "markdown",
   "metadata": {},
   "source": [
    "# Question 4 Factorial Trailing Zeroes, by Bloomberg\n",
    "- Given an integer n, return the number of trailing zeroes in n!.\n",
    "- Follow up: Could you write a solution that works in logarithmic time complexity?\n",
    "- https://leetcode.com/problems/factorial-trailing-zeroes/"
   ]
  },
  {
   "cell_type": "code",
   "execution_count": 9,
   "metadata": {},
   "outputs": [
    {
     "data": {
      "text/plain": [
       "4"
      ]
     },
     "execution_count": 9,
     "metadata": {},
     "output_type": "execute_result"
    }
   ],
   "source": [
    "# 1 calculate n!\n",
    "# 2 calculate the number of trailing zeros\n",
    "\n",
    "# solution 1\n",
    "def factorial_zeros(n):\n",
    "    product = n\n",
    "    while n > 1 :         # iteratively calculate the product\n",
    "        product *= (n-1)\n",
    "        n-=1\n",
    "        \n",
    "    count = 0 \n",
    "    \n",
    "    for i in str(product)[::-1]:  # calculate the number of trailing zeros\n",
    "        if i == '0':\n",
    "            count+=1\n",
    "        else:\n",
    "            break\n",
    "    return count\n",
    "\n",
    "factorial_zeros(20)"
   ]
  },
  {
   "cell_type": "code",
   "execution_count": 10,
   "metadata": {},
   "outputs": [
    {
     "data": {
      "text/plain": [
       "4"
      ]
     },
     "execution_count": 10,
     "metadata": {},
     "output_type": "execute_result"
    }
   ],
   "source": [
    "# solution 2 \n",
    "def factorial_zeros(n):\n",
    "    product = n\n",
    "    while n > 1 :          # step 1: iteratively calculate the product \n",
    "        product *= (n-1)\n",
    "        n-=1\n",
    "    count = 0 \n",
    "    \n",
    "    while product%10 == 0:   # step 2: calculate the number of trailing zeros\n",
    "        product = product/10\n",
    "        count+=1\n",
    "        \n",
    "    return count\n",
    "\n",
    "factorial_zeros(20)"
   ]
  },
  {
   "cell_type": "markdown",
   "metadata": {},
   "source": [
    "---"
   ]
  },
  {
   "cell_type": "markdown",
   "metadata": {},
   "source": [
    "# Question 5 Perfect Number, by Amazon\n",
    "- A perfect number is a positive integer that is equal to the sum of its positive divisors, excluding the number itself. \n",
    "- A divisor of an integer x is an integer that can divide x evenly.\n",
    "- Given an integer n, return true if n is a perfect number, otherwise return false.\n",
    "- https://leetcode.com/problems/perfect-number/"
   ]
  },
  {
   "cell_type": "code",
   "execution_count": 18,
   "metadata": {},
   "outputs": [],
   "source": [
    "#1. find the positive divisors\n",
    "#2. calculate the sum \n",
    "#3. perfect or not \n",
    "\n",
    "# solution 1: brutal force (time limit exceeded)\n",
    "\n",
    "def perfect_number(num):\n",
    "    divisors = []\n",
    "    for i in range(1,num):\n",
    "        if num%i==0:\n",
    "            divisors.append(i)\n",
    "    if sum(divisors)==num:\n",
    "        return True\n",
    "    else:\n",
    "        return False"
   ]
  },
  {
   "cell_type": "code",
   "execution_count": 19,
   "metadata": {},
   "outputs": [
    {
     "data": {
      "text/plain": [
       "False"
      ]
     },
     "execution_count": 19,
     "metadata": {},
     "output_type": "execute_result"
    }
   ],
   "source": [
    "# test case 1\n",
    "perfect_number(2)"
   ]
  },
  {
   "cell_type": "code",
   "execution_count": 20,
   "metadata": {},
   "outputs": [
    {
     "data": {
      "text/plain": [
       "True"
      ]
     },
     "execution_count": 20,
     "metadata": {},
     "output_type": "execute_result"
    }
   ],
   "source": [
    "# test case 2\n",
    "perfect_number(28)"
   ]
  },
  {
   "cell_type": "code",
   "execution_count": 21,
   "metadata": {},
   "outputs": [
    {
     "ename": "KeyboardInterrupt",
     "evalue": "",
     "output_type": "error",
     "traceback": [
      "\u001b[0;31m---------------------------------------------------------------------------\u001b[0m",
      "\u001b[0;31mKeyboardInterrupt\u001b[0m                         Traceback (most recent call last)",
      "\u001b[0;32m<ipython-input-21-cf652ad816d6>\u001b[0m in \u001b[0;36m<module>\u001b[0;34m\u001b[0m\n\u001b[1;32m      1\u001b[0m \u001b[0;31m# test case 3\u001b[0m\u001b[0;34m\u001b[0m\u001b[0;34m\u001b[0m\u001b[0;34m\u001b[0m\u001b[0m\n\u001b[0;32m----> 2\u001b[0;31m \u001b[0mperfect_number\u001b[0m\u001b[0;34m(\u001b[0m\u001b[0;36m288888888888\u001b[0m\u001b[0;34m)\u001b[0m\u001b[0;34m\u001b[0m\u001b[0;34m\u001b[0m\u001b[0m\n\u001b[0m",
      "\u001b[0;32m<ipython-input-18-b3079f002a83>\u001b[0m in \u001b[0;36mperfect_number\u001b[0;34m(num)\u001b[0m\n\u001b[1;32m      8\u001b[0m     \u001b[0mdivisors\u001b[0m \u001b[0;34m=\u001b[0m \u001b[0;34m[\u001b[0m\u001b[0;34m]\u001b[0m\u001b[0;34m\u001b[0m\u001b[0;34m\u001b[0m\u001b[0m\n\u001b[1;32m      9\u001b[0m     \u001b[0;32mfor\u001b[0m \u001b[0mi\u001b[0m \u001b[0;32min\u001b[0m \u001b[0mrange\u001b[0m\u001b[0;34m(\u001b[0m\u001b[0;36m1\u001b[0m\u001b[0;34m,\u001b[0m\u001b[0mnum\u001b[0m\u001b[0;34m)\u001b[0m\u001b[0;34m:\u001b[0m\u001b[0;34m\u001b[0m\u001b[0;34m\u001b[0m\u001b[0m\n\u001b[0;32m---> 10\u001b[0;31m         \u001b[0;32mif\u001b[0m \u001b[0mnum\u001b[0m\u001b[0;34m%\u001b[0m\u001b[0mi\u001b[0m\u001b[0;34m==\u001b[0m\u001b[0;36m0\u001b[0m\u001b[0;34m:\u001b[0m\u001b[0;34m\u001b[0m\u001b[0;34m\u001b[0m\u001b[0m\n\u001b[0m\u001b[1;32m     11\u001b[0m             \u001b[0mdivisors\u001b[0m\u001b[0;34m.\u001b[0m\u001b[0mappend\u001b[0m\u001b[0;34m(\u001b[0m\u001b[0mi\u001b[0m\u001b[0;34m)\u001b[0m\u001b[0;34m\u001b[0m\u001b[0;34m\u001b[0m\u001b[0m\n\u001b[1;32m     12\u001b[0m     \u001b[0;32mif\u001b[0m \u001b[0msum\u001b[0m\u001b[0;34m(\u001b[0m\u001b[0mdivisors\u001b[0m\u001b[0;34m)\u001b[0m\u001b[0;34m==\u001b[0m\u001b[0mnum\u001b[0m\u001b[0;34m:\u001b[0m\u001b[0;34m\u001b[0m\u001b[0;34m\u001b[0m\u001b[0m\n",
      "\u001b[0;31mKeyboardInterrupt\u001b[0m: "
     ]
    }
   ],
   "source": [
    "# test case 3\n",
    "perfect_number(288888888888) # exceeds the time limit "
   ]
  },
  {
   "cell_type": "code",
   "execution_count": 23,
   "metadata": {},
   "outputs": [],
   "source": [
    "# solution 2: sqrt(n)\n",
    "\n",
    "def perfect_number(num):\n",
    "    \n",
    "    if num<=1:\n",
    "        return False\n",
    "    \n",
    "    divisors = set([1])\n",
    "    \n",
    "    for i in range(2,int(num**0.5)+1):   # from 2 to num**0.5\n",
    "        if num%i==0:\n",
    "            divisors.add(i)\n",
    "            divisors.add(num//i)\n",
    "\n",
    "    return sum(divisors)==num"
   ]
  },
  {
   "cell_type": "code",
   "execution_count": 24,
   "metadata": {},
   "outputs": [
    {
     "data": {
      "text/plain": [
       "False"
      ]
     },
     "execution_count": 24,
     "metadata": {},
     "output_type": "execute_result"
    }
   ],
   "source": [
    "# test case 1\n",
    "perfect_number(2)"
   ]
  },
  {
   "cell_type": "code",
   "execution_count": 25,
   "metadata": {},
   "outputs": [
    {
     "data": {
      "text/plain": [
       "True"
      ]
     },
     "execution_count": 25,
     "metadata": {},
     "output_type": "execute_result"
    }
   ],
   "source": [
    "# test case 2\n",
    "perfect_number(28)"
   ]
  },
  {
   "cell_type": "code",
   "execution_count": 26,
   "metadata": {},
   "outputs": [
    {
     "data": {
      "text/plain": [
       "False"
      ]
     },
     "execution_count": 26,
     "metadata": {},
     "output_type": "execute_result"
    }
   ],
   "source": [
    "# test case 3\n",
    "perfect_number(288888888888) # fast for large numbers"
   ]
  },
  {
   "cell_type": "markdown",
   "metadata": {},
   "source": [
    "---"
   ]
  }
 ],
 "metadata": {
  "kernelspec": {
   "display_name": "Python 3",
   "language": "python",
   "name": "python3"
  },
  "language_info": {
   "codemirror_mode": {
    "name": "ipython",
    "version": 3
   },
   "file_extension": ".py",
   "mimetype": "text/x-python",
   "name": "python",
   "nbconvert_exporter": "python",
   "pygments_lexer": "ipython3",
   "version": "3.7.4"
  }
 },
 "nbformat": 4,
 "nbformat_minor": 2
}
